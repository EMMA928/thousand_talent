{
 "cells": [
  {
   "cell_type": "code",
   "execution_count": 1,
   "metadata": {},
   "outputs": [
    {
     "name": "stderr",
     "output_type": "stream",
     "text": [
      "/cluster/home/jiycai/.local/lib/python3.7/site-packages/pandas/compat/_optional.py:138: UserWarning: Pandas requires version '2.7.0' or newer of 'numexpr' (version '2.6.9' currently installed).\n",
      "  warnings.warn(msg, UserWarning)\n"
     ]
    }
   ],
   "source": [
    "import pandas as pd\n",
    "import os \n",
    "import psycopg2\n",
    "import logging"
   ]
  },
  {
   "cell_type": "code",
   "execution_count": 2,
   "metadata": {},
   "outputs": [],
   "source": [
    "absolutepath = os.path.abspath(os.getcwd())\n",
    "fileDirectory = os.path.dirname(absolutepath)\n",
    "parentDirectory = os.path.dirname(fileDirectory)\n",
    "dataprocDirectory = os.path.join(fileDirectory, 'data/proc')\n",
    "datarawDirectory = os.path.join(fileDirectory, 'data/raw')"
   ]
  },
  {
   "cell_type": "markdown",
   "metadata": {},
   "source": [
    "# copy to the raw directory main_jttp_analysis/data/raw/batch_all_clean2101020_merge_ra_clean.csv"
   ]
  },
  {
   "cell_type": "markdown",
   "metadata": {},
   "source": [
    "# for chinese academy of science scholars - set affiliation to be the secondary"
   ]
  },
  {
   "cell_type": "code",
   "execution_count": 3,
   "metadata": {},
   "outputs": [],
   "source": [
    "df = pd.read_csv(os.path.join(datarawDirectory, 'batch_all_clean2101020_merge_ra_clean.csv'))"
   ]
  },
  {
   "cell_type": "code",
   "execution_count": 21,
   "metadata": {},
   "outputs": [],
   "source": [
    "df.loc[df.hiring_unit_id==60019499,'affname'] = df.loc[df.hiring_unit_id==60019499,'affname_secondary']\n",
    "df.loc[df.hiring_unit_id==60019499,'hiring_unit_id'] = df.loc[df.hiring_unit_id==60019499,'hiring_unit_id_secondary'] "
   ]
  },
  {
   "cell_type": "markdown",
   "metadata": {},
   "source": [
    "# dealing with the never returned\n",
    "# create variable never_returned\n",
    "# use shaoyu's list\n",
    "cp /cluster/work/lawecon/Work/dcai/jiycai/thousand_talent/thousand_talent/main_jttp_analysis/data/raw/renegers_returnee.xlsx /cluster/work/lawecon/Work/dcai/jiycai/thousand_talent/thousand_talent/scripts/10152022_iteration_peer_effect/data/raw\n",
    "\n",
    "cp /cluster/work/lawecon/Work/dcai/jiycai/thousand_talent/thousand_talent/main_jttp_analysis/data/raw/renegers_nonreturnee.xlsx /cluster/work/lawecon/Work/dcai/jiycai/thousand_talent/thousand_talent/scripts/10152022_iteration_peer_effect/data/raw"
   ]
  },
  {
   "cell_type": "code",
   "execution_count": 24,
   "metadata": {},
   "outputs": [],
   "source": [
    "df_returnee = pd.read_csv(os.path.join(datarawDirectory, 'renegers_returnee.xlsx'))"
   ]
  },
  {
   "cell_type": "code",
   "execution_count": 25,
   "metadata": {},
   "outputs": [],
   "source": [
    "reneger = set(df_returnee.identifier)"
   ]
  },
  {
   "cell_type": "code",
   "execution_count": 26,
   "metadata": {},
   "outputs": [],
   "source": [
    "df['never_returned'] = df.identifier.apply(lambda x: int(x in reneger))"
   ]
  },
  {
   "cell_type": "code",
   "execution_count": 27,
   "metadata": {},
   "outputs": [],
   "source": [
    "df.to_csv(os.path.join(dataprocDirectory, 'jttp_data_cleaned.csv'),index=False)"
   ]
  },
  {
   "cell_type": "code",
   "execution_count": null,
   "metadata": {},
   "outputs": [],
   "source": []
  }
 ],
 "metadata": {
  "kernelspec": {
   "display_name": "Python 3 (ipykernel)",
   "language": "python",
   "name": "python3"
  },
  "language_info": {
   "codemirror_mode": {
    "name": "ipython",
    "version": 3
   },
   "file_extension": ".py",
   "mimetype": "text/x-python",
   "name": "python",
   "nbconvert_exporter": "python",
   "pygments_lexer": "ipython3",
   "version": "3.11.6"
  }
 },
 "nbformat": 4,
 "nbformat_minor": 4
}
