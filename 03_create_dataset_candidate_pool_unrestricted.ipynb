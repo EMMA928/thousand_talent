{
 "cells": [
  {
   "cell_type": "code",
   "execution_count": 1,
   "metadata": {},
   "outputs": [],
   "source": [
    "import pandas as pd\n",
    "import os\n",
    "absolutepath = os.path.abspath(os.getcwd())\n",
    "fileDirectory = os.path.dirname(absolutepath)\n",
    "parentDirectory = os.path.dirname(fileDirectory)\n",
    "dataprocDirectory = os.path.join(fileDirectory, 'data/proc')\n",
    "datarawDirectory = os.path.join(fileDirectory, 'data/raw')"
   ]
  },
  {
   "cell_type": "markdown",
   "metadata": {},
   "source": [
    "# the potential pool of scholars is\n",
    "# all scholars that satisfy a), b), and c):\n",
    "## a) in a two digit subfield that is ever treated across all cohorts\n",
    "## b) in a jttp receiving school\n",
    "## c) active at any time between 2010 and 2016"
   ]
  },
  {
   "cell_type": "code",
   "execution_count": 2,
   "metadata": {},
   "outputs": [],
   "source": [
    "import psycopg2\n",
    "import logging"
   ]
  },
  {
   "cell_type": "code",
   "execution_count": 5,
   "metadata": {},
   "outputs": [],
   "source": [
    "def return_candiate_pool():\n",
    "    # each row contains a authid X afid spell\n",
    "    sql_text = f\"\"\"\n",
    "    select authid,scopus_authors_aff_year_filled_chinese.afid,\n",
    "    subfield_most_frequent,\n",
    "    subfield_most_frequent_two_digit, \n",
    "    max(year) as afid_max_year, \n",
    "    min(year) as afid_min_year\n",
    "    from scopus_authors_aff_year_filled_chinese\n",
    "    left join scopus_affiliation on \n",
    "    scopus_authors_aff_year_filled_chinese.afid = scopus_affiliation.afid\n",
    "    where scopus_affiliation.jttp_school = 1 and\n",
    "    jttp_field = 1\n",
    "    group by authid, \n",
    "    scopus_authors_aff_year_filled_chinese.afid, \n",
    "    subfield_most_frequent, \n",
    "    subfield_most_frequent_two_digit;\n",
    "    \"\"\"\n",
    "    \n",
    "    con = psycopg2.connect(host='id-hdb-psgr-cp7.ethz.ch',  \n",
    "                      dbname='led', \n",
    "                      user='lixiang',\n",
    "                      password='Wmhzgjwmhxgj99')\n",
    "\n",
    "    cur = con.cursor()\n",
    "    cur.execute(sql_text)\n",
    "    rows = cur.fetchall()\n",
    "    con.close()\n",
    "    columns = ['authid','afid',\n",
    "               'subfield_most_frequent',\n",
    "               'subfield_most_frequent_two_digit',\n",
    "               'afid_max_year',\n",
    "               'afid_min_year']\n",
    "    data = pd.DataFrame(rows,columns=columns)\n",
    "    #keep all spells that terminated after 2011 and started before 2017 \n",
    "    # fix - needs to be min year <= 2017\n",
    "    data = data[((data.afid_max_year > 2011)&(data.afid_min_year < 2017))]\n",
    "    data['spell_length'] = data['afid_max_year'] - data['afid_min_year'] + 1\n",
    "    return data"
   ]
  },
  {
   "cell_type": "code",
   "execution_count": 6,
   "metadata": {},
   "outputs": [],
   "source": [
    "data = return_candiate_pool()"
   ]
  },
  {
   "cell_type": "code",
   "execution_count": 7,
   "metadata": {},
   "outputs": [
    {
     "data": {
      "text/plain": [
       "spell_length\n",
       "5.0     204075\n",
       "6.0     177244\n",
       "7.0     172169\n",
       "8.0     152651\n",
       "9.0     131329\n",
       "1.0     120415\n",
       "10.0    116480\n",
       "11.0     99230\n",
       "12.0     90775\n",
       "13.0     81615\n",
       "14.0     74006\n",
       "15.0     70381\n",
       "16.0     64588\n",
       "4.0      61614\n",
       "3.0      55580\n",
       "2.0      48743\n",
       "17.0     44388\n",
       "20.0     34768\n",
       "18.0     31141\n",
       "19.0     28025\n",
       "21.0     23785\n",
       "22.0     19846\n",
       "23.0     19629\n",
       "24.0     17325\n",
       "25.0     16312\n",
       "28.0     13091\n",
       "26.0     12998\n",
       "27.0     11093\n",
       "30.0      9666\n",
       "29.0      9645\n",
       "31.0      9300\n",
       "32.0        24\n",
       "35.0        17\n",
       "37.0        13\n",
       "34.0        12\n",
       "33.0        12\n",
       "38.0        11\n",
       "36.0         7\n",
       "77.0         1\n",
       "96.0         1\n",
       "Name: count, dtype: int64"
      ]
     },
     "execution_count": 7,
     "metadata": {},
     "output_type": "execute_result"
    }
   ],
   "source": [
    "data.spell_length.value_counts()"
   ]
  },
  {
   "cell_type": "markdown",
   "metadata": {},
   "source": [
    "# keeping only :\n",
    "# sum of spells at any jttp insitution larger than 1"
   ]
  },
  {
   "cell_type": "code",
   "execution_count": 8,
   "metadata": {},
   "outputs": [],
   "source": [
    "data['total_spell'] = data[['authid','spell_length']].groupby(['authid']).transform('sum')[['spell_length']]"
   ]
  },
  {
   "cell_type": "code",
   "execution_count": 9,
   "metadata": {},
   "outputs": [
    {
     "data": {
      "text/plain": [
       "total_spell\n",
       "5.0      178728\n",
       "7.0      168230\n",
       "6.0      166317\n",
       "8.0      156063\n",
       "9.0      141131\n",
       "          ...  \n",
       "138.0        14\n",
       "127.0        13\n",
       "135.0        12\n",
       "128.0        12\n",
       "92.0         11\n",
       "Name: count, Length: 214, dtype: int64"
      ]
     },
     "execution_count": 9,
     "metadata": {},
     "output_type": "execute_result"
    }
   ],
   "source": [
    "data.total_spell.value_counts()"
   ]
  },
  {
   "cell_type": "code",
   "execution_count": 10,
   "metadata": {},
   "outputs": [],
   "source": [
    "data = data[data.total_spell>1]"
   ]
  },
  {
   "cell_type": "code",
   "execution_count": 11,
   "metadata": {},
   "outputs": [],
   "source": [
    "data.to_csv(os.path.join(dataprocDirectory, 'author_pool_unrestricted.csv'),index=False)"
   ]
  },
  {
   "cell_type": "code",
   "execution_count": null,
   "metadata": {},
   "outputs": [],
   "source": []
  },
  {
   "cell_type": "code",
   "execution_count": null,
   "metadata": {},
   "outputs": [],
   "source": []
  },
  {
   "cell_type": "code",
   "execution_count": null,
   "metadata": {},
   "outputs": [],
   "source": []
  },
  {
   "cell_type": "code",
   "execution_count": null,
   "metadata": {},
   "outputs": [],
   "source": []
  },
  {
   "cell_type": "code",
   "execution_count": null,
   "metadata": {},
   "outputs": [],
   "source": []
  },
  {
   "cell_type": "code",
   "execution_count": null,
   "metadata": {},
   "outputs": [],
   "source": []
  }
 ],
 "metadata": {
  "kernelspec": {
   "display_name": "Python 3",
   "language": "python",
   "name": "python3"
  },
  "language_info": {
   "codemirror_mode": {
    "name": "ipython",
    "version": 3
   },
   "file_extension": ".py",
   "mimetype": "text/x-python",
   "name": "python",
   "nbconvert_exporter": "python",
   "pygments_lexer": "ipython3",
   "version": "3.12.5"
  }
 },
 "nbformat": 4,
 "nbformat_minor": 2
}
