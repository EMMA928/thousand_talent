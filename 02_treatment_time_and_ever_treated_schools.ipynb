{
 "cells": [
  {
   "cell_type": "code",
   "execution_count": 7,
   "metadata": {},
   "outputs": [],
   "source": [
    "import pandas as pd\n",
    "import os \n",
    "import psycopg2\n",
    "import logging\n",
    "import ast\n",
    "absolutepath = os.path.abspath(os.getcwd())\n",
    "fileDirectory = os.path.dirname(absolutepath)\n",
    "parentDirectory = os.path.dirname(fileDirectory)\n",
    "dataprocDirectory = os.path.join(fileDirectory, 'data/proc')\n",
    "datarawDirectory = os.path.join(fileDirectory, 'data/raw')"
   ]
  },
  {
   "cell_type": "code",
   "execution_count": 8,
   "metadata": {},
   "outputs": [],
   "source": [
    "# Read the cleaned data\n",
    "jttp_cleaned = pd.read_csv(os.path.join(dataprocDirectory, 'jttp_data_cleaned.csv'))\n",
    "\n",
    "# Create 'year' column by copying 'recruit_year'\n",
    "jttp_cleaned['year'] = jttp_cleaned['recruit_year']\n",
    "\n",
    "# Use ast.literal_eval to safely evaluate string representations of lists\n",
    "jttp_cleaned['author_id_eval'] = [\n",
    "    ast.literal_eval(v) if isinstance(v, str) else v  # Apply only if the value is a string\n",
    "    for v in jttp_cleaned['author_id'].values\n",
    "]\n",
    "\n",
    "# Drop rows with NaN values in 'author_id_eval'\n",
    "jttp_cleaned = jttp_cleaned.dropna(subset=['author_id_eval'])\n",
    "\n",
    "# Extract the first element from each evaluated list (i.e., the first author_id)\n",
    "jttp_cleaned['JTTP_authid'] = [v[0] for v in jttp_cleaned['author_id_eval'].values]\n"
   ]
  },
  {
   "cell_type": "markdown",
   "metadata": {},
   "source": [
    "## merge in subfield\n",
    "### copying the field file\n",
    "cp /cluster/work/lawecon/Work/dcai/jiycai/thousand_talent/thousand_talent/scholar_fields.csv /cluster/work/lawecon/Work/dcai/jiycai/thousand_talent/thousand_talent/scripts/10152022_iteration_peer_effect/data/raw"
   ]
  },
  {
   "cell_type": "code",
   "execution_count": 11,
   "metadata": {},
   "outputs": [],
   "source": [
    "scholar_field = pd.read_csv(os.path.join(datarawDirectory, 'scholar_fields.csv'))"
   ]
  },
  {
   "cell_type": "code",
   "execution_count": 12,
   "metadata": {},
   "outputs": [],
   "source": [
    "jttp_cleaned = jttp_cleaned.merge(scholar_field, how = 'left', left_on = ['JTTP_authid'], right_on = ['authid'])"
   ]
  },
  {
   "cell_type": "code",
   "execution_count": 13,
   "metadata": {},
   "outputs": [],
   "source": [
    "del scholar_field"
   ]
  },
  {
   "cell_type": "markdown",
   "metadata": {},
   "source": [
    "# create treatment timing dataframe\n",
    "## each row is (aff,2 digit field, 4 digit field, year of first jttp, fraction never returned among first impact, num jttp joining among first impact,)\n",
    "## merge in subfield"
   ]
  },
  {
   "cell_type": "code",
   "execution_count": 14,
   "metadata": {},
   "outputs": [],
   "source": [
    "groupby_variables_4digit = ['hiring_unit_id','subfield_most_frequent',\n",
    "                            'subfield_most_frequent_two_digit']\n",
    "outcome_variables_4digit = ['hiring_unit_id','subfield_most_frequent',\n",
    "                            'subfield_most_frequent_two_digit',\n",
    "                            'year','never_returned','JTTP_authid']\n",
    "jttp_cleaned['first_impact_4digit_time'] = jttp_cleaned[outcome_variables_4digit].\\\n",
    "groupby(groupby_variables_4digit).transform('min')[['year']]\n",
    "afid_subfield_timing = jttp_cleaned.loc[jttp_cleaned.year == jttp_cleaned.first_impact_4digit_time,\n",
    "                                        outcome_variables_4digit].groupby(groupby_variables_4digit).\\\n",
    "agg({'year':'min','never_returned':'mean','JTTP_authid':'nunique'}).reset_index()\n"
   ]
  },
  {
   "cell_type": "code",
   "execution_count": 15,
   "metadata": {},
   "outputs": [],
   "source": [
    "afid_subfield_timing['reneger_treatment_4digit'] = 1*(afid_subfield_timing['never_returned']==1)"
   ]
  },
  {
   "cell_type": "code",
   "execution_count": 16,
   "metadata": {},
   "outputs": [
    {
     "data": {
      "text/plain": [
       "never_returned\n",
       "0.000000    1421\n",
       "1.000000     227\n",
       "0.500000      34\n",
       "0.250000       5\n",
       "0.333333       3\n",
       "0.666667       2\n",
       "0.200000       1\n",
       "Name: count, dtype: int64"
      ]
     },
     "execution_count": 16,
     "metadata": {},
     "output_type": "execute_result"
    }
   ],
   "source": [
    "afid_subfield_timing.never_returned.value_counts()"
   ]
  },
  {
   "cell_type": "code",
   "execution_count": 17,
   "metadata": {},
   "outputs": [
    {
     "data": {
      "text/plain": [
       "JTTP_authid\n",
       "1    1517\n",
       "2     138\n",
       "3      27\n",
       "4      10\n",
       "5       1\n",
       "Name: count, dtype: int64"
      ]
     },
     "execution_count": 17,
     "metadata": {},
     "output_type": "execute_result"
    }
   ],
   "source": [
    "afid_subfield_timing.JTTP_authid.value_counts()"
   ]
  },
  {
   "cell_type": "code",
   "execution_count": 18,
   "metadata": {},
   "outputs": [
    {
     "data": {
      "text/html": [
       "<div>\n",
       "<style scoped>\n",
       "    .dataframe tbody tr th:only-of-type {\n",
       "        vertical-align: middle;\n",
       "    }\n",
       "\n",
       "    .dataframe tbody tr th {\n",
       "        vertical-align: top;\n",
       "    }\n",
       "\n",
       "    .dataframe thead th {\n",
       "        text-align: right;\n",
       "    }\n",
       "</style>\n",
       "<table border=\"1\" class=\"dataframe\">\n",
       "  <thead>\n",
       "    <tr style=\"text-align: right;\">\n",
       "      <th></th>\n",
       "      <th>hiring_unit_id</th>\n",
       "      <th>subfield_most_frequent</th>\n",
       "      <th>subfield_most_frequent_two_digit</th>\n",
       "      <th>year</th>\n",
       "      <th>never_returned</th>\n",
       "      <th>JTTP_authid</th>\n",
       "      <th>reneger_treatment_4digit</th>\n",
       "    </tr>\n",
       "  </thead>\n",
       "  <tbody>\n",
       "    <tr>\n",
       "      <th>1435</th>\n",
       "      <td>60032356</td>\n",
       "      <td>_2500</td>\n",
       "      <td>_25</td>\n",
       "      <td>2017</td>\n",
       "      <td>0.2</td>\n",
       "      <td>5</td>\n",
       "      <td>0</td>\n",
       "    </tr>\n",
       "  </tbody>\n",
       "</table>\n",
       "</div>"
      ],
      "text/plain": [
       "      hiring_unit_id subfield_most_frequent subfield_most_frequent_two_digit  \\\n",
       "1435        60032356                  _2500                              _25   \n",
       "\n",
       "      year  never_returned  JTTP_authid  reneger_treatment_4digit  \n",
       "1435  2017             0.2            5                         0  "
      ]
     },
     "execution_count": 18,
     "metadata": {},
     "output_type": "execute_result"
    }
   ],
   "source": [
    "afid_subfield_timing[afid_subfield_timing.JTTP_authid == 5]"
   ]
  },
  {
   "cell_type": "markdown",
   "metadata": {},
   "source": [
    "# what are the aff X 4 digit with 5 incoming at first impact?\n",
    "## Beijing Computational Science Research Center\n",
    "## Physical Sciences; Physics and Astronomy; Condensed Matter Physics;3104\n",
    "### select * from scopus_affiliation where afid = 60104686;\n",
    "\n",
    "## Shanghai Institute for Biological Sciences Chinese Academy of Sciences\n",
    "## Life Sciences;Agricultural and Biological Sciences;Plant Science; 1110\n",
    "### select * from scopus_affiliation where afid = 60007324;\n",
    "\n",
    "\n",
    "#### https://github.com/plreyes/Scopus/blob/master/ASJC%20Codes%20with%20levels.csv"
   ]
  },
  {
   "cell_type": "code",
   "execution_count": 19,
   "metadata": {},
   "outputs": [],
   "source": [
    "groupby_variables_2digit = ['hiring_unit_id',\n",
    "                            'subfield_most_frequent_two_digit']\n",
    "outcome_variables_2digit = ['hiring_unit_id',\n",
    "                            'subfield_most_frequent_two_digit',\n",
    "                            'year','never_returned','JTTP_authid']\n",
    "jttp_cleaned['first_impact_2digit_time'] = jttp_cleaned[outcome_variables_2digit].\\\n",
    "groupby(groupby_variables_2digit).transform('min')[['year']]\n",
    "afid_subfield_timing_2digit = jttp_cleaned.loc[jttp_cleaned.year == jttp_cleaned.first_impact_2digit_time,\\\n",
    "                                               outcome_variables_2digit].groupby(groupby_variables_2digit).\\\n",
    "agg({'year':'min','never_returned':'mean','JTTP_authid':'nunique'}).reset_index()"
   ]
  },
  {
   "cell_type": "code",
   "execution_count": 20,
   "metadata": {},
   "outputs": [],
   "source": [
    "afid_subfield_timing_2digit['reneger_treatment_2digit'] = 1*(afid_subfield_timing_2digit['never_returned']==1)"
   ]
  },
  {
   "cell_type": "code",
   "execution_count": 21,
   "metadata": {},
   "outputs": [
    {
     "data": {
      "text/plain": [
       "never_returned\n",
       "0.000000    807\n",
       "1.000000    125\n",
       "0.500000     36\n",
       "0.250000      5\n",
       "0.200000      2\n",
       "0.333333      2\n",
       "0.666667      1\n",
       "Name: count, dtype: int64"
      ]
     },
     "execution_count": 21,
     "metadata": {},
     "output_type": "execute_result"
    }
   ],
   "source": [
    "afid_subfield_timing_2digit.never_returned.value_counts()"
   ]
  },
  {
   "cell_type": "code",
   "execution_count": 22,
   "metadata": {},
   "outputs": [
    {
     "data": {
      "text/plain": [
       "JTTP_authid\n",
       "1    812\n",
       "2    123\n",
       "3     25\n",
       "4     14\n",
       "5      4\n",
       "Name: count, dtype: int64"
      ]
     },
     "execution_count": 22,
     "metadata": {},
     "output_type": "execute_result"
    }
   ],
   "source": [
    "afid_subfield_timing_2digit.JTTP_authid.value_counts()"
   ]
  },
  {
   "cell_type": "markdown",
   "metadata": {},
   "source": [
    "# save treatment timing files"
   ]
  },
  {
   "cell_type": "code",
   "execution_count": 23,
   "metadata": {},
   "outputs": [],
   "source": [
    "afid_subfield_timing.to_csv(os.path.join(dataprocDirectory, 'afid_subfield_timing_4digit.csv'),index=False)\n",
    "afid_subfield_timing_2digit.to_csv(os.path.join(dataprocDirectory, 'afid_subfield_timing_2digit.csv'),index=False)"
   ]
  },
  {
   "cell_type": "markdown",
   "metadata": {},
   "source": [
    "# create list of ever treated schools"
   ]
  },
  {
   "cell_type": "code",
   "execution_count": 24,
   "metadata": {},
   "outputs": [],
   "source": [
    "ever_treated_schools = jttp_cleaned.hiring_unit_id.unique()"
   ]
  },
  {
   "cell_type": "markdown",
   "metadata": {},
   "source": [
    "# update the jttp_school column in scopus_affiliation"
   ]
  },
  {
   "cell_type": "markdown",
   "metadata": {},
   "source": [
    "UPDATE scopus_affiliation\n",
    "SET jttp_school = 0;"
   ]
  },
  {
   "cell_type": "markdown",
   "metadata": {},
   "source": [
    "# create query"
   ]
  },
  {
   "cell_type": "code",
   "execution_count": 25,
   "metadata": {},
   "outputs": [],
   "source": [
    "condition = \" or \".join([f\"afid = {afid}\" for afid in ever_treated_schools])\n",
    "query = f\"\"\"UPDATE scopus_affiliation SET jttp_school = 1 WHERE ({condition});\"\"\""
   ]
  },
  {
   "cell_type": "code",
   "execution_count": 26,
   "metadata": {},
   "outputs": [
    {
     "data": {
      "text/plain": [
       "'UPDATE scopus_affiliation SET jttp_school = 1 WHERE (afid = 60010851 or afid = 60105683 or afid = 60007324 or afid = 60013789 or afid = 60000937 or afid = 60009860 or afid = 60006782 or afid = 60019706 or afid = 60019118 or afid = 60017060 or afid = 60005465 or afid = 60018704 or afid = 60029306 or afid = 60016521 or afid = 60025278 or afid = 60018205 or afid = 60122781 or afid = 60006354 or afid = 60019533 or afid = 60014773 or afid = 60033100 or afid = 60069717 or afid = 60032955 or afid = 60003970 or afid = 60017705 or afid = 60073652 or afid = 60019499 or afid = 60025084 or afid = 120075110 or afid = 60024045 or afid = 60011069 or afid = 60022422 or afid = 60014966 or afid = 60031863 or afid = 60025256 or afid = 60105232 or afid = 60026601 or afid = 60021170 or afid = 60014277 or afid = 60026282 or afid = 60010432 or afid = 60019616 or afid = 60013551 or afid = 60031031 or afid = 60028265 or afid = 60024542 or afid = 60015742 or afid = 60102070 or afid = 60010896 or afid = 60113416 or afid = 60000174 or afid = 60023380 or afid = 60022381 or afid = 60073473 or afid = 60023237 or afid = 60025761 or afid = 60029608 or afid = 60029242 or afid = 60025665 or afid = 60006019 or afid = 60010689 or afid = 60013268 or afid = 60122052 or afid = 60021182 or afid = 60017605 or afid = 60026311 or afid = 60012820 or afid = 60018310 or afid = 60021200 or afid = 60018308 or afid = 60013625 or afid = 60005244 or afid = 60007029 or afid = 60108865 or afid = 60004538 or afid = 60004630 or afid = 60007171 or afid = 60018614 or afid = 60027631 or afid = 60032203 or afid = 60003977 or afid = 60069721 or afid = 60014466 or afid = 60010421 or afid = 60025578 or afid = 60007711 or afid = 60027277 or afid = 60003078 or afid = 60014402 or afid = 60006588 or afid = 60016211 or afid = 60018038 or afid = 60003707 or afid = 60001666 or afid = 60025441 or afid = 60018910 or afid = 60014205 or afid = 60027470 or afid = 60002246 or afid = 60117396 or afid = 60021016 or afid = 60117367 or afid = 60003353 or afid = 60013156 or afid = 60016835 or afid = 60011715 or afid = 60021843 or afid = 60102083 or afid = 120210798 or afid = 60017456 or afid = 60018554 or afid = 60021474 or afid = 60021449 or afid = 60105085 or afid = 60002593 or afid = 60012223 or afid = 60005816 or afid = 60032356 or afid = 60021836 or afid = 60029925 or afid = 60117387 or afid = 60020675 or afid = 60061261 or afid = 60010591 or afid = 60031041 or afid = 60014643 or afid = 60020870 or afid = 60006106 or afid = 60021666 or afid = 60009509 or afid = 60064143 or afid = 60028009 or afid = 60020745 or afid = 60017622 or afid = 60001255 or afid = 60007155 or afid = 60104686 or afid = 60022414 or afid = 60032275 or afid = 60088459 or afid = 60083514 or afid = 60005027 or afid = 60018486 or afid = 20 or afid = 60018465 or afid = 60014157 or afid = 60026707 or afid = 60108609 or afid = 60020880 or afid = 60103519 or afid = 60008073 or afid = 60027363 or afid = 60010953 or afid = 60020620 or afid = 60009884 or afid = 60010080 or afid = 15 or afid = 6 or afid = 60023813 or afid = 60031150 or afid = 60030270 or afid = 60017179 or afid = 60022598 or afid = 60011549 or afid = 60082199 or afid = 17 or afid = 60021227 or afid = 60057642 or afid = 60005229 or afid = 60009400 or afid = 60001298 or afid = 60007381 or afid = 60018273 or afid = 60028965 or afid = 60009409 or afid = 60003146 or afid = 60011040 or afid = 60005500 or afid = 60069706 or afid = 60006935 or afid = 60029386 or afid = 60022281 or afid = 0 or afid = 60023277 or afid = 60020258 or afid = 60017483 or afid = 60073460 or afid = 60017482 or afid = 60027416 or afid = 60019496 or afid = 60028797 or afid = 60073673 or afid = 60027021 or afid = 60008691 or afid = 60032744 or afid = 60030434 or afid = 60022345 or afid = 60008872 or afid = 60008332 or afid = 60073518 or afid = 60049819 or afid = 60001429 or afid = 60016087 or afid = 7 or afid = 60105111 or afid = 60025234 or afid = 60020256 or afid = 60089949 or afid = 60028891 or afid = 118033717 or afid = 60032168 or afid = 60016358 or afid = 60014070 or afid = 60117660 or afid = 60027799 or afid = 60026981 or afid = 60002299 or afid = 60031454 or afid = 21 or afid = 5 or afid = 60002222 or afid = 60013614 or afid = 60000126 or afid = 60007333 or afid = 60012879 or afid = 60029380 or afid = 60008576 or afid = 60018540 or afid = 60113424 or afid = 60032389 or afid = 60015487 or afid = 60117397 or afid = 60023797 or afid = 60027257 or afid = 60020044 or afid = 60030904 or afid = 60026852 or afid = 60117406 or afid = 16 or afid = 8 or afid = 60103970 or afid = 60021615 or afid = 12 or afid = 60012627 or afid = 60002033 or afid = 2 or afid = 60004246 or afid = 19 or afid = 60002836);'"
      ]
     },
     "execution_count": 26,
     "metadata": {},
     "output_type": "execute_result"
    }
   ],
   "source": [
    "query"
   ]
  },
  {
   "cell_type": "markdown",
   "metadata": {},
   "source": [
    "# create list of ever treated fields"
   ]
  },
  {
   "cell_type": "code",
   "execution_count": 29,
   "metadata": {},
   "outputs": [],
   "source": [
    "ever_treated_fields = jttp_cleaned.subfield_most_frequent_two_digit.unique()"
   ]
  },
  {
   "cell_type": "markdown",
   "metadata": {},
   "source": [
    "# update the jttp_field column in scopus_authors_aff_year_filled_chinese\n",
    "\n",
    "ALTER TABLE scopus_authors_aff_year_filled_chinese ADD COLUMN jttp_field float;\n",
    "UPDATE scopus_authors_aff_year_filled_chinese\n",
    "SET jttp_field = 0;"
   ]
  },
  {
   "cell_type": "code",
   "execution_count": 30,
   "metadata": {},
   "outputs": [],
   "source": [
    "condition = \" or \".join([f\"subfield_most_frequent_two_digit = '{field}'\" for field in ever_treated_fields])\n",
    "query = f\"\"\"UPDATE scopus_authors_aff_year_filled_chinese SET jttp_field = 1 WHERE ({condition});\"\"\""
   ]
  },
  {
   "cell_type": "code",
   "execution_count": 34,
   "metadata": {},
   "outputs": [
    {
     "data": {
      "text/plain": [
       "\"UPDATE scopus_authors_aff_year_filled_chinese SET jttp_field = 1 WHERE (subfield_most_frequent_two_digit = '_23' or subfield_most_frequent_two_digit = '_16' or subfield_most_frequent_two_digit = '_11' or subfield_most_frequent_two_digit = '_27' or subfield_most_frequent_two_digit = '_22' or subfield_most_frequent_two_digit = '_31' or subfield_most_frequent_two_digit = '_13' or subfield_most_frequent_two_digit = '_28' or subfield_most_frequent_two_digit = '_19' or subfield_most_frequent_two_digit = '_26' or subfield_most_frequent_two_digit = '_24' or subfield_most_frequent_two_digit = 'nan' or subfield_most_frequent_two_digit = '_17' or subfield_most_frequent_two_digit = '_25' or subfield_most_frequent_two_digit = '_21' or subfield_most_frequent_two_digit = '_30' or subfield_most_frequent_two_digit = '_10' or subfield_most_frequent_two_digit = '_33' or subfield_most_frequent_two_digit = '_15' or subfield_most_frequent_two_digit = '_29' or subfield_most_frequent_two_digit = '_18' or subfield_most_frequent_two_digit = '_32' or subfield_most_frequent_two_digit = '_35' or subfield_most_frequent_two_digit = '_20' or subfield_most_frequent_two_digit = '_12' or subfield_most_frequent_two_digit = '_14' or subfield_most_frequent_two_digit = '_36');\""
      ]
     },
     "execution_count": 34,
     "metadata": {},
     "output_type": "execute_result"
    }
   ],
   "source": [
    "query"
   ]
  },
  {
   "cell_type": "code",
   "execution_count": 33,
   "metadata": {},
   "outputs": [
    {
     "data": {
      "text/plain": [
       "np.int64(3525)"
      ]
     },
     "execution_count": 33,
     "metadata": {},
     "output_type": "execute_result"
    }
   ],
   "source": [
    "jttp_cleaned.subfield_most_frequent_two_digit.count()"
   ]
  },
  {
   "cell_type": "code",
   "execution_count": null,
   "metadata": {},
   "outputs": [],
   "source": []
  },
  {
   "cell_type": "code",
   "execution_count": null,
   "metadata": {},
   "outputs": [],
   "source": []
  },
  {
   "cell_type": "code",
   "execution_count": null,
   "metadata": {},
   "outputs": [],
   "source": []
  },
  {
   "cell_type": "code",
   "execution_count": null,
   "metadata": {},
   "outputs": [],
   "source": []
  },
  {
   "cell_type": "code",
   "execution_count": null,
   "metadata": {},
   "outputs": [],
   "source": []
  },
  {
   "cell_type": "code",
   "execution_count": null,
   "metadata": {},
   "outputs": [],
   "source": []
  },
  {
   "cell_type": "code",
   "execution_count": null,
   "metadata": {},
   "outputs": [],
   "source": []
  },
  {
   "cell_type": "code",
   "execution_count": null,
   "metadata": {},
   "outputs": [],
   "source": []
  },
  {
   "cell_type": "code",
   "execution_count": null,
   "metadata": {},
   "outputs": [],
   "source": []
  },
  {
   "cell_type": "code",
   "execution_count": null,
   "metadata": {},
   "outputs": [],
   "source": []
  },
  {
   "cell_type": "code",
   "execution_count": null,
   "metadata": {},
   "outputs": [],
   "source": []
  },
  {
   "cell_type": "code",
   "execution_count": null,
   "metadata": {},
   "outputs": [],
   "source": []
  },
  {
   "cell_type": "code",
   "execution_count": null,
   "metadata": {},
   "outputs": [],
   "source": []
  },
  {
   "cell_type": "code",
   "execution_count": null,
   "metadata": {},
   "outputs": [],
   "source": []
  },
  {
   "cell_type": "code",
   "execution_count": null,
   "metadata": {},
   "outputs": [],
   "source": []
  },
  {
   "cell_type": "code",
   "execution_count": null,
   "metadata": {},
   "outputs": [],
   "source": []
  },
  {
   "cell_type": "code",
   "execution_count": null,
   "metadata": {},
   "outputs": [],
   "source": []
  }
 ],
 "metadata": {
  "kernelspec": {
   "display_name": "Python 3",
   "language": "python",
   "name": "python3"
  },
  "language_info": {
   "codemirror_mode": {
    "name": "ipython",
    "version": 3
   },
   "file_extension": ".py",
   "mimetype": "text/x-python",
   "name": "python",
   "nbconvert_exporter": "python",
   "pygments_lexer": "ipython3",
   "version": "3.12.5"
  }
 },
 "nbformat": 4,
 "nbformat_minor": 2
}
