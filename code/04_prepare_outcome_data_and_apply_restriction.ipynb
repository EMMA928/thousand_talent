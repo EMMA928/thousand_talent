{
 "cells": [
  {
   "cell_type": "markdown",
   "metadata": {},
   "source": [
    "# filter based on total tenure"
   ]
  },
  {
   "cell_type": "code",
   "execution_count": 2,
   "metadata": {},
   "outputs": [],
   "source": [
    "import pandas as pd\n",
    "import os\n",
    "absolutepath = os.path.abspath(os.getcwd())\n",
    "fileDirectory = os.path.dirname(absolutepath)\n",
    "parentDirectory = os.path.dirname(fileDirectory)\n",
    "dataprocDirectory = os.path.join(fileDirectory, 'data/proc')\n",
    "datarawDirectory = os.path.join(fileDirectory, 'data/raw')"
   ]
  },
  {
   "cell_type": "code",
   "execution_count": 3,
   "metadata": {},
   "outputs": [
    {
     "data": {
      "text/plain": [
       "'c:\\\\Users\\\\lixiang\\\\.ssh\\\\10282022_iteration_peer_effect_stacking\\\\data/proc\\\\author_pool_indicator.csv'"
      ]
     },
     "execution_count": 3,
     "metadata": {},
     "output_type": "execute_result"
    }
   ],
   "source": [
    "spells = pd.read_csv(os.path.join(dataprocDirectory, 'author_pool_unrestricted.csv'))\n",
    "spells.shape\n",
    "all_authors_in_dataset = spells[['authid']].drop_duplicates()\n",
    "all_authors_in_dataset['in_dataset'] = 1\n",
    "all_authors_in_dataset.to_csv(os.path.join(dataprocDirectory, 'author_pool_indicator.csv'),index=False)\n",
    "os.path.join(dataprocDirectory, 'author_pool_indicator.csv')"
   ]
  },
  {
   "cell_type": "markdown",
   "metadata": {},
   "source": [
    "# create an indicator for being in the database\n",
    "Drop table if exists all_authors_in_dataset_jttp;\n",
    "\n",
    "CREATE TABLE all_authors_in_dataset_jttp (\n",
    "  authid bigint,\n",
    "  in_dataset int,\n",
    "  PRIMARY KEY (authid)\n",
    ");\n",
    "\n",
    "\\COPY all_authors_in_dataset_jttp FROM '/cluster/work/lawecon/Work/dcai/jiycai/thousand_talent/thousand_talent/scripts/10282022_iteration_peer_effect_stacking/data/proc/author_pool_indicator.csv' DELIMITER ',' CSV HEADER;"
   ]
  },
  {
   "cell_type": "markdown",
   "metadata": {},
   "source": [
    "# run the following in the database"
   ]
  },
  {
   "cell_type": "markdown",
   "metadata": {},
   "source": [
    "\\copy (select * from scopus_authors_year_outcome_chinese_deduped \n",
    "       left join all_authors_in_dataset_jttp \n",
    "       on scopus_authors_year_outcome_chinese_deduped.authid = all_authors_in_dataset_jttp.authid \n",
    "       where all_authors_in_dataset_jttp.in_dataset = 1) \n",
    "to ''c:\\\\Users\\\\lixiang\\\\.ssh\\\\10282022_iteration_peer_effect_stacking\\\\data/proc\\\\author_pool_outcomes.csv' \n",
    "csv header;\n"
   ]
  },
  {
   "cell_type": "markdown",
   "metadata": {},
   "source": [
    "# apply restriction"
   ]
  },
  {
   "cell_type": "code",
   "execution_count": 4,
   "metadata": {},
   "outputs": [],
   "source": [
    "\n",
    "outcomes = pd.read_csv(os.path.join(dataprocDirectory, 'author_pool_outcomes.csv'))"
   ]
  },
  {
   "cell_type": "markdown",
   "metadata": {},
   "source": [
    "# at least 3 years\n",
    "# at least 5 papers"
   ]
  },
  {
   "cell_type": "code",
   "execution_count": 5,
   "metadata": {},
   "outputs": [],
   "source": [
    "outcomes_authid_gb = outcomes[['authid','year','num_docs']].groupby(['authid']).agg({'year':['min','max'],\n",
    "                                                                                     'num_docs':['sum']}).reset_index()"
   ]
  },
  {
   "cell_type": "code",
   "execution_count": 6,
   "metadata": {},
   "outputs": [],
   "source": [
    "outcomes_authid_gb.columns = ['_'.join(col) for col in outcomes_authid_gb.columns]"
   ]
  },
  {
   "cell_type": "code",
   "execution_count": 7,
   "metadata": {},
   "outputs": [],
   "source": [
    "outcomes_authid_gb['total_year'] = outcomes_authid_gb.year_max - outcomes_authid_gb.year_min + 1 "
   ]
  },
  {
   "cell_type": "code",
   "execution_count": 8,
   "metadata": {},
   "outputs": [],
   "source": [
    "outcomes_authid_gb['restriction'] = 1*((outcomes_authid_gb.total_year>2)&\n",
    "                                     (outcomes_authid_gb.num_docs_sum>4))"
   ]
  },
  {
   "cell_type": "code",
   "execution_count": 9,
   "metadata": {},
   "outputs": [
    {
     "data": {
      "text/plain": [
       "(594481, 6)"
      ]
     },
     "execution_count": 9,
     "metadata": {},
     "output_type": "execute_result"
    }
   ],
   "source": [
    "outcomes_authid_gb[outcomes_authid_gb.restriction==1].shape"
   ]
  },
  {
   "cell_type": "code",
   "execution_count": 10,
   "metadata": {},
   "outputs": [
    {
     "data": {
      "text/plain": [
       "(1800227, 6)"
      ]
     },
     "execution_count": 10,
     "metadata": {},
     "output_type": "execute_result"
    }
   ],
   "source": [
    "outcomes_authid_gb.shape"
   ]
  },
  {
   "cell_type": "code",
   "execution_count": 11,
   "metadata": {},
   "outputs": [
    {
     "data": {
      "text/plain": [
       "0.33022557710777584"
      ]
     },
     "execution_count": 11,
     "metadata": {},
     "output_type": "execute_result"
    }
   ],
   "source": [
    "594481/1800227"
   ]
  },
  {
   "cell_type": "code",
   "execution_count": 12,
   "metadata": {},
   "outputs": [],
   "source": [
    "outcomes_authid_gb = outcomes_authid_gb[['authid_','restriction']]\n",
    "outcomes_authid_gb.columns = ['authid','restriction']\n",
    "outcomes_authid_gb.to_csv(os.path.join(dataprocDirectory, 'author_pool_restriction.csv'),index=False)"
   ]
  },
  {
   "cell_type": "markdown",
   "metadata": {},
   "source": [
    "# create an indicator for being in within restriction\n",
    "Drop table if exists all_authors_in_restriction_jttp;\n",
    "\n",
    "CREATE TABLE all_authors_in_restriction_jttp (\n",
    "  authid bigint,\n",
    "  restriction int,\n",
    "  PRIMARY KEY (authid)\n",
    ");\n",
    "\n",
    "\\COPY all_authors_in_restriction_jttp FROM '/cluster/work/lawecon/Work/dcai/jiycai/thousand_talent/thousand_talent/scripts/10282022_iteration_peer_effect_stacking/data/proc/author_pool_restriction.csv' DELIMITER ',' CSV HEADER;"
   ]
  },
  {
   "cell_type": "markdown",
   "metadata": {},
   "source": [
    "# create produce author_pool.csv"
   ]
  },
  {
   "cell_type": "code",
   "execution_count": 13,
   "metadata": {},
   "outputs": [],
   "source": [
    "author_pool_unrestricted = pd.read_csv(os.path.join(dataprocDirectory, 'author_pool_unrestricted.csv'))"
   ]
  },
  {
   "cell_type": "code",
   "execution_count": 14,
   "metadata": {},
   "outputs": [],
   "source": [
    "author_pool_unrestricted = author_pool_unrestricted.merge(outcomes_authid_gb,\n",
    "                                                          how = 'left',\n",
    "                                                          on = 'authid')"
   ]
  },
  {
   "cell_type": "code",
   "execution_count": 15,
   "metadata": {},
   "outputs": [],
   "source": [
    "author_pool_unrestricted = author_pool_unrestricted[author_pool_unrestricted.restriction==1]"
   ]
  },
  {
   "cell_type": "code",
   "execution_count": 16,
   "metadata": {},
   "outputs": [],
   "source": [
    "author_pool_unrestricted.to_csv(os.path.join(dataprocDirectory, 'author_pool.csv'),index=False)"
   ]
  },
  {
   "cell_type": "code",
   "execution_count": null,
   "metadata": {},
   "outputs": [],
   "source": []
  },
  {
   "cell_type": "code",
   "execution_count": null,
   "metadata": {},
   "outputs": [],
   "source": []
  }
 ],
 "metadata": {
  "kernelspec": {
   "display_name": "Python 3",
   "language": "python",
   "name": "python3"
  },
  "language_info": {
   "codemirror_mode": {
    "name": "ipython",
    "version": 3
   },
   "file_extension": ".py",
   "mimetype": "text/x-python",
   "name": "python",
   "nbconvert_exporter": "python",
   "pygments_lexer": "ipython3",
   "version": "3.12.5"
  }
 },
 "nbformat": 4,
 "nbformat_minor": 2
}
