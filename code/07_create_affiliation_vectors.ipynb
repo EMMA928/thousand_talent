{
 "cells": [
  {
   "cell_type": "code",
   "execution_count": 1,
   "metadata": {},
   "outputs": [
    {
     "name": "stderr",
     "output_type": "stream",
     "text": [
      "/cluster/home/jiycai/.local/lib/python3.7/site-packages/pandas/compat/_optional.py:138: UserWarning: Pandas requires version '2.7.0' or newer of 'numexpr' (version '2.6.9' currently installed).\n",
      "  warnings.warn(msg, UserWarning)\n"
     ]
    }
   ],
   "source": [
    "import pandas as pd\n",
    "import os\n",
    "absolutepath = os.path.abspath(os.getcwd())\n",
    "fileDirectory = os.path.dirname(absolutepath)\n",
    "parentDirectory = os.path.dirname(fileDirectory)\n",
    "dataprocDirectory = os.path.join(fileDirectory, 'data/proc')\n",
    "datarawDirectory = os.path.join(fileDirectory, 'data/raw')"
   ]
  },
  {
   "cell_type": "code",
   "execution_count": 2,
   "metadata": {},
   "outputs": [],
   "source": [
    "import psycopg2\n",
    "import logging"
   ]
  },
  {
   "cell_type": "code",
   "execution_count": 3,
   "metadata": {},
   "outputs": [],
   "source": [
    "def return_candiate_pool_affiliation_history():\n",
    "    # each row contains a authid X afid spell\n",
    "    sql_text = f\"\"\"\n",
    "    select scopus_authors_aff_year_filled_chinese.authid,scopus_authors_aff_year_filled_chinese.afid,\n",
    "    subfield_most_frequent,\n",
    "    subfield_most_frequent_two_digit,\n",
    "    scopus_affiliation.jttp_school,\n",
    "    year\n",
    "    from scopus_authors_aff_year_filled_chinese\n",
    "    left join scopus_affiliation on \n",
    "    scopus_authors_aff_year_filled_chinese.afid = scopus_affiliation.afid\n",
    "    left join all_authors_in_restriction_jttp on \n",
    "    scopus_authors_aff_year_filled_chinese.authid = all_authors_in_restriction_jttp.authid\n",
    "    where all_authors_in_restriction_jttp.restriction = 1;\n",
    "    \"\"\"\n",
    "    \n",
    "    con = psycopg2.connect(host='id-hdb-psgr-cp7.ethz.ch',  \n",
    "                      dbname='led', \n",
    "                      user='jiycai')\n",
    "\n",
    "    cur = con.cursor()\n",
    "    cur.execute(sql_text)\n",
    "    rows = cur.fetchall()\n",
    "    con.close()\n",
    "    columns = ['authid','afid',\n",
    "               'subfield_most_frequent',\n",
    "               'subfield_most_frequent_two_digit',\n",
    "               'jttp_school',\n",
    "               'year']\n",
    "    data = pd.DataFrame(rows,columns=columns)\n",
    "    return data"
   ]
  },
  {
   "cell_type": "code",
   "execution_count": 4,
   "metadata": {},
   "outputs": [],
   "source": [
    "data = return_candiate_pool_affiliation_history()"
   ]
  },
  {
   "cell_type": "code",
   "execution_count": 5,
   "metadata": {},
   "outputs": [
    {
     "data": {
      "text/plain": [
       "(10440163, 6)"
      ]
     },
     "execution_count": 5,
     "metadata": {},
     "output_type": "execute_result"
    }
   ],
   "source": [
    "data.shape"
   ]
  },
  {
   "cell_type": "markdown",
   "metadata": {},
   "source": [
    "# check for gaps in affiliation size"
   ]
  },
  {
   "cell_type": "code",
   "execution_count": 6,
   "metadata": {},
   "outputs": [],
   "source": [
    "data['max_year'] = data[['afid','authid','year']].groupby(['afid','authid']).transform('max')[['year']]\n",
    "data['min_year'] = data[['afid','authid','year']].groupby(['afid','authid']).transform('min')[['year']]\n",
    "data['spell_length'] = data.max_year - data.min_year + 1 "
   ]
  },
  {
   "cell_type": "code",
   "execution_count": 7,
   "metadata": {},
   "outputs": [
    {
     "data": {
      "text/plain": [
       "61529"
      ]
     },
     "execution_count": 7,
     "metadata": {},
     "output_type": "execute_result"
    }
   ],
   "source": [
    "len(data[data.spell_length>1].afid.unique())"
   ]
  },
  {
   "cell_type": "code",
   "execution_count": 8,
   "metadata": {},
   "outputs": [],
   "source": [
    "groupby_var = ['afid','subfield_most_frequent_two_digit']\n",
    "groupby_var_outcome = groupby_var + ['authid']\n",
    "data_affXafield_size = data[groupby_var_outcome].groupby(groupby_var).nunique().reset_index()"
   ]
  },
  {
   "cell_type": "code",
   "execution_count": 9,
   "metadata": {},
   "outputs": [],
   "source": [
    "data_affXafield_size.columns = ['afid','subfield_most_frequent_two_digit','affXfield_size']"
   ]
  },
  {
   "cell_type": "code",
   "execution_count": 10,
   "metadata": {},
   "outputs": [],
   "source": [
    "data_affXafield_size = data_affXafield_size.sort_values('affXfield_size')"
   ]
  },
  {
   "cell_type": "code",
   "execution_count": 11,
   "metadata": {},
   "outputs": [],
   "source": [
    "data = data.merge(data_affXafield_size, how = 'left', on = groupby_var)"
   ]
  },
  {
   "cell_type": "code",
   "execution_count": 12,
   "metadata": {},
   "outputs": [],
   "source": [
    "groupby_var = ['afid']\n",
    "groupby_var_outcome = groupby_var + ['authid']\n",
    "data_aff_size = data[groupby_var_outcome].groupby(groupby_var).nunique().reset_index()"
   ]
  },
  {
   "cell_type": "code",
   "execution_count": 13,
   "metadata": {},
   "outputs": [],
   "source": [
    "data_aff_size = data_aff_size.sort_values('authid')"
   ]
  },
  {
   "cell_type": "code",
   "execution_count": 14,
   "metadata": {},
   "outputs": [],
   "source": [
    "data_aff_size.columns = ['afid','afid_size']"
   ]
  },
  {
   "cell_type": "code",
   "execution_count": 15,
   "metadata": {},
   "outputs": [],
   "source": [
    "data = data.merge(data_aff_size, how = 'left', on = 'afid')"
   ]
  },
  {
   "cell_type": "code",
   "execution_count": 16,
   "metadata": {},
   "outputs": [],
   "source": [
    "data['afid_masked'] = data['afid']\n",
    "data.loc[data.afid_size<100,'afid_masked'] = 'masked'"
   ]
  },
  {
   "cell_type": "code",
   "execution_count": 17,
   "metadata": {},
   "outputs": [],
   "source": [
    "data.to_csv(os.path.join(dataprocDirectory, 'author_pool_affiliation_history.csv'),index=False)"
   ]
  },
  {
   "cell_type": "markdown",
   "metadata": {},
   "source": [
    "# create affiliation list for each year"
   ]
  },
  {
   "cell_type": "code",
   "execution_count": 18,
   "metadata": {},
   "outputs": [],
   "source": [
    "groupby_var = ['authid','year']\n",
    "groupby_var_outcome = groupby_var + ['afid_masked']\n",
    "data_vec = data[groupby_var_outcome].groupby(groupby_var).agg(['unique','nunique']).reset_index()\n",
    "data_vec.columns = ['_'.join(col) for col in data_vec.columns]"
   ]
  },
  {
   "cell_type": "code",
   "execution_count": 19,
   "metadata": {},
   "outputs": [],
   "source": [
    "data_vec.to_csv(os.path.join(dataprocDirectory, 'author_pool_affiliation_vectors_list_form.csv'),index=False)"
   ]
  },
  {
   "cell_type": "code",
   "execution_count": null,
   "metadata": {},
   "outputs": [],
   "source": []
  }
 ],
 "metadata": {
  "kernelspec": {
   "display_name": "Python 3",
   "language": "python",
   "name": "python3"
  },
  "language_info": {
   "codemirror_mode": {
    "name": "ipython",
    "version": 3
   },
   "file_extension": ".py",
   "mimetype": "text/x-python",
   "name": "python",
   "nbconvert_exporter": "python",
   "pygments_lexer": "ipython3",
   "version": "3.7.1"
  }
 },
 "nbformat": 4,
 "nbformat_minor": 2
}
