{
 "cells": [
  {
   "cell_type": "code",
   "execution_count": 1,
   "metadata": {},
   "outputs": [
    {
     "name": "stderr",
     "output_type": "stream",
     "text": [
      "/cluster/home/jiycai/.local/lib/python3.7/site-packages/pandas/compat/_optional.py:138: UserWarning: Pandas requires version '2.7.0' or newer of 'numexpr' (version '2.6.9' currently installed).\n",
      "  warnings.warn(msg, UserWarning)\n"
     ]
    }
   ],
   "source": [
    "import pandas as pd\n",
    "import os\n",
    "absolutepath = os.path.abspath(os.getcwd())\n",
    "fileDirectory = os.path.dirname(absolutepath)\n",
    "parentDirectory = os.path.dirname(fileDirectory)\n",
    "dataprocDirectory = os.path.join(fileDirectory, 'data/proc')\n",
    "datarawDirectory = os.path.join(fileDirectory, 'data/raw')"
   ]
  },
  {
   "cell_type": "markdown",
   "metadata": {},
   "source": [
    "# load affiliation list for each year"
   ]
  },
  {
   "cell_type": "code",
   "execution_count": 2,
   "metadata": {},
   "outputs": [],
   "source": [
    "data_vec = pd.read_csv(os.path.join(dataprocDirectory, 'author_pool_affiliation_vectors_list_form.csv'))"
   ]
  },
  {
   "cell_type": "code",
   "execution_count": 3,
   "metadata": {},
   "outputs": [
    {
     "data": {
      "text/plain": [
       "1      5585374\n",
       "2      1315710\n",
       "3       348681\n",
       "4        90455\n",
       "5        26200\n",
       "        ...   \n",
       "212          1\n",
       "221          1\n",
       "239          1\n",
       "235          1\n",
       "175          1\n",
       "Name: afid_masked_nunique, Length: 171, dtype: int64"
      ]
     },
     "execution_count": 3,
     "metadata": {},
     "output_type": "execute_result"
    }
   ],
   "source": [
    "data_vec.afid_masked_nunique.value_counts()"
   ]
  },
  {
   "cell_type": "code",
   "execution_count": 4,
   "metadata": {},
   "outputs": [
    {
     "data": {
      "text/html": [
       "<div>\n",
       "<style scoped>\n",
       "    .dataframe tbody tr th:only-of-type {\n",
       "        vertical-align: middle;\n",
       "    }\n",
       "\n",
       "    .dataframe tbody tr th {\n",
       "        vertical-align: top;\n",
       "    }\n",
       "\n",
       "    .dataframe thead th {\n",
       "        text-align: right;\n",
       "    }\n",
       "</style>\n",
       "<table border=\"1\" class=\"dataframe\">\n",
       "  <thead>\n",
       "    <tr style=\"text-align: right;\">\n",
       "      <th></th>\n",
       "      <th>authid_</th>\n",
       "      <th>year_</th>\n",
       "      <th>afid_masked_unique</th>\n",
       "      <th>afid_masked_nunique</th>\n",
       "    </tr>\n",
       "  </thead>\n",
       "  <tbody>\n",
       "    <tr>\n",
       "      <th>0</th>\n",
       "      <td>6503846240</td>\n",
       "      <td>2007.0</td>\n",
       "      <td>[60009415]</td>\n",
       "      <td>1</td>\n",
       "    </tr>\n",
       "    <tr>\n",
       "      <th>1</th>\n",
       "      <td>6503846240</td>\n",
       "      <td>2008.0</td>\n",
       "      <td>[60017482]</td>\n",
       "      <td>1</td>\n",
       "    </tr>\n",
       "    <tr>\n",
       "      <th>2</th>\n",
       "      <td>6503846240</td>\n",
       "      <td>2009.0</td>\n",
       "      <td>[60017482]</td>\n",
       "      <td>1</td>\n",
       "    </tr>\n",
       "    <tr>\n",
       "      <th>3</th>\n",
       "      <td>6503846240</td>\n",
       "      <td>2010.0</td>\n",
       "      <td>[60017482]</td>\n",
       "      <td>1</td>\n",
       "    </tr>\n",
       "    <tr>\n",
       "      <th>4</th>\n",
       "      <td>6503846240</td>\n",
       "      <td>2011.0</td>\n",
       "      <td>[60017482]</td>\n",
       "      <td>1</td>\n",
       "    </tr>\n",
       "  </tbody>\n",
       "</table>\n",
       "</div>"
      ],
      "text/plain": [
       "      authid_   year_ afid_masked_unique  afid_masked_nunique\n",
       "0  6503846240  2007.0         [60009415]                    1\n",
       "1  6503846240  2008.0         [60017482]                    1\n",
       "2  6503846240  2009.0         [60017482]                    1\n",
       "3  6503846240  2010.0         [60017482]                    1\n",
       "4  6503846240  2011.0         [60017482]                    1"
      ]
     },
     "execution_count": 4,
     "metadata": {},
     "output_type": "execute_result"
    }
   ],
   "source": [
    "data_vec.head()"
   ]
  },
  {
   "cell_type": "code",
   "execution_count": 5,
   "metadata": {},
   "outputs": [
    {
     "data": {
      "text/plain": [
       "0.7554291226356044"
      ]
     },
     "execution_count": 5,
     "metadata": {},
     "output_type": "execute_result"
    }
   ],
   "source": [
    "5585374/7393644"
   ]
  },
  {
   "cell_type": "markdown",
   "metadata": {},
   "source": [
    "# processs"
   ]
  },
  {
   "cell_type": "code",
   "execution_count": 6,
   "metadata": {},
   "outputs": [],
   "source": [
    "def af_string_filter(af_string):\n",
    "    af_list = af_string.replace(\"[\",'').replace(\"]\",'').split(' ')\n",
    "    return af_list, len(af_list)"
   ]
  },
  {
   "cell_type": "code",
   "execution_count": 7,
   "metadata": {},
   "outputs": [],
   "source": [
    "filtered_af = data_vec.afid_masked_unique.map(af_string_filter)"
   ]
  },
  {
   "cell_type": "code",
   "execution_count": 8,
   "metadata": {},
   "outputs": [],
   "source": [
    "data_vec = data_vec.join(pd.DataFrame.from_records(filtered_af,\n",
    "             columns = ['afid_masked_unique_filtered','afid_masked_nunique_filtered']))"
   ]
  },
  {
   "cell_type": "code",
   "execution_count": 9,
   "metadata": {},
   "outputs": [],
   "source": [
    "data_vec_filtered_aff = data_vec[['authid_','year_','afid_masked_unique_filtered','afid_masked_nunique_filtered']]\n",
    "data_vec_filtered_aff.columns = ['authid','cohort','afid_masked_unique_filtered','afid_masked_nunique_filtered']"
   ]
  },
  {
   "cell_type": "markdown",
   "metadata": {},
   "source": [
    "# merge with panel and check fraction with only 1 af"
   ]
  },
  {
   "cell_type": "code",
   "execution_count": 10,
   "metadata": {},
   "outputs": [],
   "source": [
    "balanced_dataset = pd.read_csv(os.path.join(dataprocDirectory,\n",
    "                                                   'balanced_panel_wo_affiliation_never_treated_control_group.csv'))"
   ]
  },
  {
   "cell_type": "code",
   "execution_count": 11,
   "metadata": {},
   "outputs": [],
   "source": [
    "balanced_dataset_authid_cohort = balanced_dataset[['authid','cohort']].drop_duplicates()"
   ]
  },
  {
   "cell_type": "code",
   "execution_count": 12,
   "metadata": {},
   "outputs": [],
   "source": [
    "balanced_dataset_authid_cohort = balanced_dataset_authid_cohort.merge(data_vec_filtered_aff,\n",
    "                                                                     how = 'left',\n",
    "                                                                     on = ['authid','cohort'])"
   ]
  },
  {
   "cell_type": "code",
   "execution_count": 13,
   "metadata": {},
   "outputs": [
    {
     "data": {
      "text/plain": [
       "1      685114\n",
       "2      272962\n",
       "3       69607\n",
       "4       16672\n",
       "5        4336\n",
       "        ...  \n",
       "68          1\n",
       "129         1\n",
       "101         1\n",
       "96          1\n",
       "66          1\n",
       "Name: afid_masked_nunique_filtered, Length: 104, dtype: int64"
      ]
     },
     "execution_count": 13,
     "metadata": {},
     "output_type": "execute_result"
    }
   ],
   "source": [
    "balanced_dataset_authid_cohort.afid_masked_nunique_filtered.value_counts()"
   ]
  },
  {
   "cell_type": "code",
   "execution_count": 14,
   "metadata": {},
   "outputs": [
    {
     "data": {
      "text/plain": [
       "(1051731, 4)"
      ]
     },
     "execution_count": 14,
     "metadata": {},
     "output_type": "execute_result"
    }
   ],
   "source": [
    "balanced_dataset_authid_cohort.shape"
   ]
  },
  {
   "cell_type": "code",
   "execution_count": 18,
   "metadata": {},
   "outputs": [
    {
     "data": {
      "text/plain": [
       "0.6514156186325211"
      ]
     },
     "execution_count": 18,
     "metadata": {},
     "output_type": "execute_result"
    }
   ],
   "source": [
    "685114/1051731"
   ]
  },
  {
   "cell_type": "code",
   "execution_count": 16,
   "metadata": {},
   "outputs": [
    {
     "data": {
      "text/html": [
       "<div>\n",
       "<style scoped>\n",
       "    .dataframe tbody tr th:only-of-type {\n",
       "        vertical-align: middle;\n",
       "    }\n",
       "\n",
       "    .dataframe tbody tr th {\n",
       "        vertical-align: top;\n",
       "    }\n",
       "\n",
       "    .dataframe thead th {\n",
       "        text-align: right;\n",
       "    }\n",
       "</style>\n",
       "<table border=\"1\" class=\"dataframe\">\n",
       "  <thead>\n",
       "    <tr style=\"text-align: right;\">\n",
       "      <th></th>\n",
       "      <th>authid</th>\n",
       "      <th>cohort</th>\n",
       "      <th>afid_masked_unique_filtered</th>\n",
       "      <th>afid_masked_nunique_filtered</th>\n",
       "    </tr>\n",
       "  </thead>\n",
       "  <tbody>\n",
       "    <tr>\n",
       "      <th>0</th>\n",
       "      <td>6503846240</td>\n",
       "      <td>2011</td>\n",
       "      <td>[60017482]</td>\n",
       "      <td>1</td>\n",
       "    </tr>\n",
       "    <tr>\n",
       "      <th>1</th>\n",
       "      <td>6503867928</td>\n",
       "      <td>2011</td>\n",
       "      <td>[60025278]</td>\n",
       "      <td>1</td>\n",
       "    </tr>\n",
       "    <tr>\n",
       "      <th>2</th>\n",
       "      <td>6503871635</td>\n",
       "      <td>2011</td>\n",
       "      <td>[60019616]</td>\n",
       "      <td>1</td>\n",
       "    </tr>\n",
       "    <tr>\n",
       "      <th>3</th>\n",
       "      <td>6503888520</td>\n",
       "      <td>2011</td>\n",
       "      <td>[60023813]</td>\n",
       "      <td>1</td>\n",
       "    </tr>\n",
       "    <tr>\n",
       "      <th>4</th>\n",
       "      <td>6503893958</td>\n",
       "      <td>2011</td>\n",
       "      <td>[60019499]</td>\n",
       "      <td>1</td>\n",
       "    </tr>\n",
       "    <tr>\n",
       "      <th>...</th>\n",
       "      <td>...</td>\n",
       "      <td>...</td>\n",
       "      <td>...</td>\n",
       "      <td>...</td>\n",
       "    </tr>\n",
       "    <tr>\n",
       "      <th>1051726</th>\n",
       "      <td>57218719037</td>\n",
       "      <td>2017</td>\n",
       "      <td>[60033100]</td>\n",
       "      <td>1</td>\n",
       "    </tr>\n",
       "    <tr>\n",
       "      <th>1051727</th>\n",
       "      <td>57218830100</td>\n",
       "      <td>2017</td>\n",
       "      <td>[60031150]</td>\n",
       "      <td>1</td>\n",
       "    </tr>\n",
       "    <tr>\n",
       "      <th>1051728</th>\n",
       "      <td>57218842998</td>\n",
       "      <td>2017</td>\n",
       "      <td>[60027363, 60015742]</td>\n",
       "      <td>2</td>\n",
       "    </tr>\n",
       "    <tr>\n",
       "      <th>1051729</th>\n",
       "      <td>57219137053</td>\n",
       "      <td>2017</td>\n",
       "      <td>[60013268]</td>\n",
       "      <td>1</td>\n",
       "    </tr>\n",
       "    <tr>\n",
       "      <th>1051730</th>\n",
       "      <td>57219263322</td>\n",
       "      <td>2017</td>\n",
       "      <td>[60019499, 60016358]</td>\n",
       "      <td>2</td>\n",
       "    </tr>\n",
       "  </tbody>\n",
       "</table>\n",
       "<p>1051731 rows × 4 columns</p>\n",
       "</div>"
      ],
      "text/plain": [
       "              authid  cohort afid_masked_unique_filtered  \\\n",
       "0         6503846240    2011                  [60017482]   \n",
       "1         6503867928    2011                  [60025278]   \n",
       "2         6503871635    2011                  [60019616]   \n",
       "3         6503888520    2011                  [60023813]   \n",
       "4         6503893958    2011                  [60019499]   \n",
       "...              ...     ...                         ...   \n",
       "1051726  57218719037    2017                  [60033100]   \n",
       "1051727  57218830100    2017                  [60031150]   \n",
       "1051728  57218842998    2017        [60027363, 60015742]   \n",
       "1051729  57219137053    2017                  [60013268]   \n",
       "1051730  57219263322    2017        [60019499, 60016358]   \n",
       "\n",
       "         afid_masked_nunique_filtered  \n",
       "0                                   1  \n",
       "1                                   1  \n",
       "2                                   1  \n",
       "3                                   1  \n",
       "4                                   1  \n",
       "...                               ...  \n",
       "1051726                             1  \n",
       "1051727                             1  \n",
       "1051728                             2  \n",
       "1051729                             1  \n",
       "1051730                             2  \n",
       "\n",
       "[1051731 rows x 4 columns]"
      ]
     },
     "execution_count": 16,
     "metadata": {},
     "output_type": "execute_result"
    }
   ],
   "source": [
    "balanced_dataset_authid_cohort"
   ]
  },
  {
   "cell_type": "code",
   "execution_count": 17,
   "metadata": {},
   "outputs": [],
   "source": [
    "balanced_dataset_authid_cohort.to_csv(os.path.join(dataprocDirectory, 'author_cohort_jttp_af.csv'),\n",
    "                                      index=False)"
   ]
  },
  {
   "cell_type": "code",
   "execution_count": null,
   "metadata": {},
   "outputs": [],
   "source": []
  },
  {
   "cell_type": "code",
   "execution_count": null,
   "metadata": {},
   "outputs": [],
   "source": []
  },
  {
   "cell_type": "code",
   "execution_count": null,
   "metadata": {},
   "outputs": [],
   "source": []
  },
  {
   "cell_type": "code",
   "execution_count": null,
   "metadata": {},
   "outputs": [],
   "source": []
  },
  {
   "cell_type": "code",
   "execution_count": null,
   "metadata": {},
   "outputs": [],
   "source": []
  },
  {
   "cell_type": "code",
   "execution_count": null,
   "metadata": {},
   "outputs": [],
   "source": []
  },
  {
   "cell_type": "code",
   "execution_count": null,
   "metadata": {},
   "outputs": [],
   "source": []
  }
 ],
 "metadata": {
  "kernelspec": {
   "display_name": "Python 3",
   "language": "python",
   "name": "python3"
  },
  "language_info": {
   "codemirror_mode": {
    "name": "ipython",
    "version": 3
   },
   "file_extension": ".py",
   "mimetype": "text/x-python",
   "name": "python",
   "nbconvert_exporter": "python",
   "pygments_lexer": "ipython3",
   "version": "3.7.1"
  }
 },
 "nbformat": 4,
 "nbformat_minor": 2
}
