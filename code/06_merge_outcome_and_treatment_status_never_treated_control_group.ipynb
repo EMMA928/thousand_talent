{
 "cells": [
  {
   "cell_type": "code",
   "execution_count": 1,
   "metadata": {},
   "outputs": [],
   "source": [
    "import pandas as pd\n",
    "import os\n",
    "absolutepath = os.path.abspath(os.getcwd())\n",
    "fileDirectory = os.path.dirname(absolutepath)\n",
    "parentDirectory = os.path.dirname(fileDirectory)\n",
    "dataprocDirectory = os.path.join(fileDirectory, 'data/proc')\n",
    "datarawDirectory = os.path.join(fileDirectory, 'data/raw')"
   ]
  },
  {
   "cell_type": "markdown",
   "metadata": {},
   "source": [
    "# load treament status"
   ]
  },
  {
   "cell_type": "code",
   "execution_count": 2,
   "metadata": {},
   "outputs": [],
   "source": [
    "authid_level_dataset = pd.read_csv(os.path.join(dataprocDirectory, \n",
    "                                                'author_treatment_assignment_stacked.csv'))"
   ]
  },
  {
   "cell_type": "code",
   "execution_count": 3,
   "metadata": {},
   "outputs": [
    {
     "data": {
      "text/plain": [
       "np.float64(0.0)"
      ]
     },
     "execution_count": 3,
     "metadata": {},
     "output_type": "execute_result"
    }
   ],
   "source": [
    "authid_level_dataset.is_jttp.mean()"
   ]
  },
  {
   "cell_type": "markdown",
   "metadata": {},
   "source": [
    "# load outcome\n",
    "# keep only restricted\n",
    "\\copy (select * from scopus_authors_year_outcome_chinese_deduped left join all_authors_in_restriction_jttp on scopus_authors_year_outcome_chinese_deduped.authid = all_authors_in_restriction_jttp.authid where all_authors_in_restriction_jttp.restriction = 1) to '/cluster/work/lawecon/Work/dcai/jiycai/thousand_talent/thousand_talent/scripts/10282022_iteration_peer_effect_stacking/data/proc/author_pool_outcomes_restricted.csv' csv header;"
   ]
  },
  {
   "cell_type": "code",
   "execution_count": 5,
   "metadata": {},
   "outputs": [],
   "source": [
    "outcome_dataset = pd.read_csv(os.path.join(dataprocDirectory, \n",
    "                                                'author_pool_outcomes_restricted.csv'))"
   ]
  },
  {
   "cell_type": "markdown",
   "metadata": {},
   "source": [
    "# for each scholar create panel between 2005 and 2019"
   ]
  },
  {
   "cell_type": "code",
   "execution_count": 6,
   "metadata": {},
   "outputs": [],
   "source": [
    "def create_balanced_panel():\n",
    "    print('creating min max')\n",
    "    outcome_dataset_authid_max_min = outcome_dataset[['authid','restriction','year']].groupby(['authid','restriction']).\\\n",
    "    agg({'year':['min','max']}).reset_index()\n",
    "    outcome_dataset_authid_max_min.columns = ['_'.join(col) for col in outcome_dataset_authid_max_min.columns]\n",
    "    outcome_dataset_authid_max_min.columns = ['authid','restriction','min_year','max_year']\n",
    "    # merge with min max\n",
    "    authid_level_merged = authid_level_dataset.merge(outcome_dataset_authid_max_min, \n",
    "                                                      how = 'left',\n",
    "                                                      on = 'authid')\n",
    "    authid_level_merged['career_length'] = authid_level_merged.max_year-authid_level_merged.min_year+1\n",
    "    \n",
    "    print('create skeleton')\n",
    "    import itertools\n",
    "    auth_year = [(v[0][0],v[0][1],v[1]) for v in \\\n",
    "                 list(itertools.product(authid_level_dataset[['authid','cohort']].values,range(2005,2020)))]\n",
    "    data_skeleton = pd.DataFrame(auth_year, columns = ['authid','cohort','year'])\n",
    "    data_balanced = data_skeleton.merge(authid_level_merged, how = 'left', on = ['authid','cohort'])\n",
    "    data_balanced['before_first_year'] = 1*(data_balanced.year < data_balanced.min_year)\n",
    "    data_balanced['after_last_year'] = 1*(data_balanced.year > data_balanced.max_year)\n",
    "    \n",
    "    print('merge in outcome')\n",
    "    data_balanced = data_balanced.merge(outcome_dataset, \n",
    "                                    how = 'left', \n",
    "                                    on = ['authid','year'])\n",
    "    \n",
    "    print('impute missing')\n",
    "    for var in ['citedby_count','cite_split','frac_count_docs',\n",
    "        'num_docs', 'if_top10', 'if_top50', 'if_lower50', 'num_ranked',\n",
    "        'num_docs_ex_j','num_docs_intl','num_docs_intl_ex_j','funded','sum_citescore']:\n",
    "        data_balanced[var] = data_balanced[var].fillna(0)\n",
    "        \n",
    "    print('drop not yet or already treated')\n",
    "    data_balanced = data_balanced[(data_balanced.treatment_status==1)|\n",
    "                                  #((data_balanced.treatment_status==2)&(data_balanced.year<data_balanced.treat_year))|\n",
    "                                  (data_balanced.treatment_status==3)]\n",
    "    print('keep max_year > cohort')\n",
    "    data_balanced = data_balanced[data_balanced.max_year > data_balanced.cohort]\n",
    "    \n",
    "    return data_balanced"
   ]
  },
  {
   "cell_type": "code",
   "execution_count": 7,
   "metadata": {},
   "outputs": [
    {
     "name": "stdout",
     "output_type": "stream",
     "text": [
      "creating min max\n",
      "create skeleton\n",
      "merge in outcome\n",
      "impute missing\n",
      "drop not yet or already treated\n",
      "keep max_year > cohort\n"
     ]
    }
   ],
   "source": [
    "balanced_dataset = create_balanced_panel()"
   ]
  },
  {
   "cell_type": "code",
   "execution_count": 8,
   "metadata": {},
   "outputs": [],
   "source": [
    "balanced_dataset.to_csv(os.path.join(dataprocDirectory, \n",
    "                                                'balanced_panel_wo_affiliation_never_treated_control_group.csv'),\n",
    "                        index=False)"
   ]
  },
  {
   "cell_type": "code",
   "execution_count": null,
   "metadata": {},
   "outputs": [],
   "source": []
  }
 ],
 "metadata": {
  "kernelspec": {
   "display_name": "Python 3",
   "language": "python",
   "name": "python3"
  },
  "language_info": {
   "codemirror_mode": {
    "name": "ipython",
    "version": 3
   },
   "file_extension": ".py",
   "mimetype": "text/x-python",
   "name": "python",
   "nbconvert_exporter": "python",
   "pygments_lexer": "ipython3",
   "version": "3.12.5"
  }
 },
 "nbformat": 4,
 "nbformat_minor": 2
}
