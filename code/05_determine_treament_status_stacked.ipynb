{
 "cells": [
  {
   "cell_type": "code",
   "execution_count": 1,
   "metadata": {},
   "outputs": [],
   "source": [
    "import pandas as pd\n",
    "import os\n",
    "absolutepath = os.path.abspath(os.getcwd())\n",
    "fileDirectory = os.path.dirname(absolutepath)\n",
    "parentDirectory = os.path.dirname(fileDirectory)\n",
    "dataprocDirectory = os.path.join(fileDirectory, 'data/proc')\n",
    "datarawDirectory = os.path.join(fileDirectory, 'data/raw')"
   ]
  },
  {
   "cell_type": "markdown",
   "metadata": {},
   "source": [
    "# load spells\n",
    "# load treament timing"
   ]
  },
  {
   "cell_type": "code",
   "execution_count": 2,
   "metadata": {},
   "outputs": [],
   "source": [
    "spells = pd.read_csv(os.path.join(dataprocDirectory, 'author_pool.csv'))"
   ]
  },
  {
   "cell_type": "code",
   "execution_count": 3,
   "metadata": {},
   "outputs": [],
   "source": [
    "afid_subfield_timing_2digit = pd.read_csv(os.path.join(dataprocDirectory, \\\n",
    "                                                       'afid_subfield_timing_2digit.csv'))\n",
    "afid_subfield_timing_2digit.columns = ['afid', 'subfield_most_frequent_two_digit', 'year',\n",
    "       'never_returned', 'JTTP_authid', 'reneger_treatment_2digit']\n",
    "afid_subfield_timing_4digit = pd.read_csv(os.path.join(dataprocDirectory, \\\n",
    "                                                       'afid_subfield_timing_4digit.csv'))\n",
    "afid_subfield_timing_4digit.columns = ['afid', 'subfield_most_frequent',\n",
    "       'subfield_most_frequent_two_digit', 'year', 'never_returned',\n",
    "       'JTTP_authid', 'reneger_treatment_4digit']"
   ]
  },
  {
   "cell_type": "markdown",
   "metadata": {},
   "source": [
    "# merge spell and treatment timing\n",
    "# each row is (author X potential treament timing)\n",
    "# 1. define presence\n",
    "# presence if jttp year <  max year \n",
    "# 2. define treatment\n",
    "# treated if jttp year <  max year & jttp year >=  min year + 1 "
   ]
  },
  {
   "cell_type": "code",
   "execution_count": 4,
   "metadata": {},
   "outputs": [],
   "source": [
    "spellsXtiming_2digit = spells.merge(afid_subfield_timing_2digit, \n",
    "                                    how = 'outer',\n",
    "                                    on = ['afid','subfield_most_frequent_two_digit'])\n",
    "spellsXtiming_2digit = spellsXtiming_2digit.dropna(subset = ['authid'])"
   ]
  },
  {
   "cell_type": "code",
   "execution_count": 5,
   "metadata": {},
   "outputs": [
    {
     "name": "stdout",
     "output_type": "stream",
     "text": [
      "(724099, 15)\n"
     ]
    }
   ],
   "source": [
    "# presence \n",
    "# 1 : present \n",
    "spellsXtiming_2digit.loc[(spellsXtiming_2digit.year<\\\n",
    "                          spellsXtiming_2digit.afid_max_year),\n",
    "                         'present_2digit'] = 1\n",
    "# treatment \n",
    "# 1 : treated \n",
    "spellsXtiming_2digit.loc[(spellsXtiming_2digit.year>=\\\n",
    "                          spellsXtiming_2digit.afid_min_year+1)&\\\n",
    "                         (spellsXtiming_2digit.year<\\\n",
    "                          spellsXtiming_2digit.afid_max_year),\n",
    "                         'treatment_2digit'] = 1\n",
    "# 2 : join after treatment \n",
    "spellsXtiming_2digit.loc[(spellsXtiming_2digit.year<\\\n",
    "                          spellsXtiming_2digit.afid_min_year+1)&\\\n",
    "                         (spellsXtiming_2digit.year<\\\n",
    "                          spellsXtiming_2digit.afid_max_year),\n",
    "                         'treatment_2digit'] = 2\n",
    "print(spellsXtiming_2digit.shape)"
   ]
  },
  {
   "cell_type": "code",
   "execution_count": 6,
   "metadata": {},
   "outputs": [
    {
     "data": {
      "text/plain": [
       "treatment_2digit\n",
       "1.0    266333\n",
       "2.0    170717\n",
       "Name: count, dtype: int64"
      ]
     },
     "execution_count": 6,
     "metadata": {},
     "output_type": "execute_result"
    }
   ],
   "source": [
    "spellsXtiming_2digit.treatment_2digit.value_counts()"
   ]
  },
  {
   "cell_type": "markdown",
   "metadata": {},
   "source": [
    "## merge in 4 digit treament status"
   ]
  },
  {
   "cell_type": "code",
   "execution_count": 7,
   "metadata": {},
   "outputs": [],
   "source": [
    "afid_subfield_timing_4digit['four_digit_match'] = 1\n",
    "digit_vars = ['afid','year','subfield_most_frequent',\n",
    "              'subfield_most_frequent_two_digit','four_digit_match']\n",
    "spellsXtiming_2digit = spellsXtiming_2digit.merge(afid_subfield_timing_4digit[digit_vars],\n",
    "                                                  how = 'left',\n",
    "                                                  on = ['afid','year',\n",
    "                                                        'subfield_most_frequent',\n",
    "                                                        'subfield_most_frequent_two_digit'])"
   ]
  },
  {
   "cell_type": "markdown",
   "metadata": {},
   "source": [
    "# for those treated\n",
    "# among all possible treatment dates\n",
    "# the earliest one is the assigned"
   ]
  },
  {
   "cell_type": "code",
   "execution_count": 8,
   "metadata": {},
   "outputs": [],
   "source": [
    "groupbyvar = ['authid','subfield_most_frequent','subfield_most_frequent_two_digit']\n",
    "groupbyvar_outcome = groupbyvar+['year','reneger_treatment_2digit','JTTP_authid','four_digit_match']\n",
    "spellsXtiming_2digit_treated = spellsXtiming_2digit[spellsXtiming_2digit.treatment_2digit==1].copy()\n",
    "spellsXtiming_2digit_treated['min_treat_year'] = spellsXtiming_2digit_treated.groupby(groupbyvar).\\\n",
    "transform('min')[['year']]\n",
    "spellsXtiming_2digit_authid = spellsXtiming_2digit_treated.loc[spellsXtiming_2digit_treated.year==\\\n",
    "                                                       spellsXtiming_2digit_treated.min_treat_year,\\\n",
    "                                                       groupbyvar_outcome].groupby(groupbyvar).\\\n",
    "agg({'year':'min','reneger_treatment_2digit':'min',\n",
    "     'JTTP_authid':'sum','four_digit_match':'max'}).reset_index()"
   ]
  },
  {
   "cell_type": "code",
   "execution_count": 9,
   "metadata": {},
   "outputs": [],
   "source": [
    "spellsXtiming_2digit_authid.columns = ['authid', 'subfield_most_frequent', \n",
    "                                       'subfield_most_frequent_two_digit',\n",
    "                                       'treat_year','reneger_treatment_2digit', \n",
    "                                       'jttp_count','four_digit_match']"
   ]
  },
  {
   "cell_type": "markdown",
   "metadata": {},
   "source": [
    "# for those present but not treated - \n",
    "# ie those who join after jttp arrival\n",
    "# label them"
   ]
  },
  {
   "cell_type": "code",
   "execution_count": 10,
   "metadata": {},
   "outputs": [],
   "source": [
    "all_joiners = set(spellsXtiming_2digit[spellsXtiming_2digit.treatment_2digit == 2].authid)"
   ]
  },
  {
   "cell_type": "code",
   "execution_count": 11,
   "metadata": {},
   "outputs": [
    {
     "data": {
      "text/plain": [
       "159321"
      ]
     },
     "execution_count": 11,
     "metadata": {},
     "output_type": "execute_result"
    }
   ],
   "source": [
    "len(all_joiners)"
   ]
  },
  {
   "cell_type": "code",
   "execution_count": 12,
   "metadata": {},
   "outputs": [],
   "source": [
    "all_treated = set(spellsXtiming_2digit[spellsXtiming_2digit.treatment_2digit == 1].authid)"
   ]
  },
  {
   "cell_type": "code",
   "execution_count": 13,
   "metadata": {},
   "outputs": [
    {
     "data": {
      "text/plain": [
       "253824"
      ]
     },
     "execution_count": 13,
     "metadata": {},
     "output_type": "execute_result"
    }
   ],
   "source": [
    "len(all_treated)"
   ]
  },
  {
   "cell_type": "code",
   "execution_count": 14,
   "metadata": {},
   "outputs": [],
   "source": [
    "only_joiner = all_joiners - all_treated"
   ]
  },
  {
   "cell_type": "code",
   "execution_count": 15,
   "metadata": {},
   "outputs": [
    {
     "data": {
      "text/plain": [
       "142558"
      ]
     },
     "execution_count": 15,
     "metadata": {},
     "output_type": "execute_result"
    }
   ],
   "source": [
    "len(only_joiner)"
   ]
  },
  {
   "cell_type": "code",
   "execution_count": 16,
   "metadata": {},
   "outputs": [
    {
     "data": {
      "text/plain": [
       "authid                              253824\n",
       "subfield_most_frequent              253824\n",
       "subfield_most_frequent_two_digit    253824\n",
       "treat_year                          253824\n",
       "reneger_treatment_2digit            253824\n",
       "jttp_count                          253824\n",
       "four_digit_match                     72739\n",
       "dtype: int64"
      ]
     },
     "execution_count": 16,
     "metadata": {},
     "output_type": "execute_result"
    }
   ],
   "source": [
    "spellsXtiming_2digit_authid.count()"
   ]
  },
  {
   "cell_type": "markdown",
   "metadata": {},
   "source": [
    "# combine to get authid level dataset"
   ]
  },
  {
   "cell_type": "code",
   "execution_count": 17,
   "metadata": {},
   "outputs": [],
   "source": [
    "authid_level_dataset = spells[['authid','subfield_most_frequent','subfield_most_frequent_two_digit']].drop_duplicates()"
   ]
  },
  {
   "cell_type": "code",
   "execution_count": 18,
   "metadata": {},
   "outputs": [],
   "source": [
    "authid_level_dataset = authid_level_dataset.merge(spellsXtiming_2digit_authid,\n",
    "                                                  how = 'left',\n",
    "                                                  on = ['authid',\n",
    "                                                        'subfield_most_frequent',\n",
    "                                                        'subfield_most_frequent_two_digit'])"
   ]
  },
  {
   "cell_type": "code",
   "execution_count": 19,
   "metadata": {},
   "outputs": [],
   "source": [
    "authid_level_dataset['only_joiner'] = authid_level_dataset.authid.map(lambda x : 1*(x in only_joiner))"
   ]
  },
  {
   "cell_type": "code",
   "execution_count": 20,
   "metadata": {},
   "outputs": [
    {
     "data": {
      "text/plain": [
       "(594481, 8)"
      ]
     },
     "execution_count": 20,
     "metadata": {},
     "output_type": "execute_result"
    }
   ],
   "source": [
    "authid_level_dataset.shape"
   ]
  },
  {
   "cell_type": "markdown",
   "metadata": {},
   "source": [
    "# authid x cohort dataset\n",
    "# each cohort includes\n",
    "# 1. those treated that year\n",
    "# 2. those who are active the year before at one of the affiliations"
   ]
  },
  {
   "cell_type": "code",
   "execution_count": 21,
   "metadata": {},
   "outputs": [],
   "source": [
    "spells_authid_first_last_year = spells.copy()\n",
    "spells_authid_first_last_year['spell_min_year'] = spells_authid_first_last_year[['authid','afid_min_year']].groupby('authid')['afid_min_year'].transform('min')\n",
    "spells_authid_first_last_year['spell_max_year'] = spells_authid_first_last_year[['authid','afid_max_year']].groupby('authid')['afid_max_year'].transform('max')\n",
    "spells_authid_first_last_year = spells_authid_first_last_year[['authid','spell_min_year','spell_max_year']].drop_duplicates()"
   ]
  },
  {
   "cell_type": "code",
   "execution_count": 22,
   "metadata": {},
   "outputs": [],
   "source": [
    "authid_level_dataset = authid_level_dataset.merge(spells_authid_first_last_year, how = 'left', on = 'authid')"
   ]
  },
  {
   "cell_type": "code",
   "execution_count": 24,
   "metadata": {},
   "outputs": [
    {
     "data": {
      "text/html": [
       "<div>\n",
       "<style scoped>\n",
       "    .dataframe tbody tr th:only-of-type {\n",
       "        vertical-align: middle;\n",
       "    }\n",
       "\n",
       "    .dataframe tbody tr th {\n",
       "        vertical-align: top;\n",
       "    }\n",
       "\n",
       "    .dataframe thead th {\n",
       "        text-align: right;\n",
       "    }\n",
       "</style>\n",
       "<table border=\"1\" class=\"dataframe\">\n",
       "  <thead>\n",
       "    <tr style=\"text-align: right;\">\n",
       "      <th></th>\n",
       "      <th>authid</th>\n",
       "      <th>subfield_most_frequent</th>\n",
       "      <th>subfield_most_frequent_two_digit</th>\n",
       "      <th>treat_year</th>\n",
       "      <th>reneger_treatment_2digit</th>\n",
       "      <th>jttp_count</th>\n",
       "      <th>four_digit_match</th>\n",
       "      <th>only_joiner</th>\n",
       "      <th>spell_min_year</th>\n",
       "      <th>spell_max_year</th>\n",
       "    </tr>\n",
       "  </thead>\n",
       "  <tbody>\n",
       "    <tr>\n",
       "      <th>0</th>\n",
       "      <td>6503846240</td>\n",
       "      <td>_2210</td>\n",
       "      <td>_22</td>\n",
       "      <td>NaN</td>\n",
       "      <td>NaN</td>\n",
       "      <td>NaN</td>\n",
       "      <td>NaN</td>\n",
       "      <td>1</td>\n",
       "      <td>2008.0</td>\n",
       "      <td>2016.0</td>\n",
       "    </tr>\n",
       "    <tr>\n",
       "      <th>1</th>\n",
       "      <td>6503847505</td>\n",
       "      <td>_2506</td>\n",
       "      <td>_25</td>\n",
       "      <td>2013.0</td>\n",
       "      <td>0.0</td>\n",
       "      <td>1.0</td>\n",
       "      <td>NaN</td>\n",
       "      <td>0</td>\n",
       "      <td>2003.0</td>\n",
       "      <td>2020.0</td>\n",
       "    </tr>\n",
       "    <tr>\n",
       "      <th>2</th>\n",
       "      <td>6503862195</td>\n",
       "      <td>_2406</td>\n",
       "      <td>_24</td>\n",
       "      <td>NaN</td>\n",
       "      <td>NaN</td>\n",
       "      <td>NaN</td>\n",
       "      <td>NaN</td>\n",
       "      <td>0</td>\n",
       "      <td>2016.0</td>\n",
       "      <td>2017.0</td>\n",
       "    </tr>\n",
       "    <tr>\n",
       "      <th>3</th>\n",
       "      <td>6503867928</td>\n",
       "      <td>_1303</td>\n",
       "      <td>_13</td>\n",
       "      <td>2011.0</td>\n",
       "      <td>0.0</td>\n",
       "      <td>1.0</td>\n",
       "      <td>NaN</td>\n",
       "      <td>0</td>\n",
       "      <td>1997.0</td>\n",
       "      <td>2016.0</td>\n",
       "    </tr>\n",
       "    <tr>\n",
       "      <th>4</th>\n",
       "      <td>6503871635</td>\n",
       "      <td>_2208</td>\n",
       "      <td>_22</td>\n",
       "      <td>2011.0</td>\n",
       "      <td>0.0</td>\n",
       "      <td>1.0</td>\n",
       "      <td>NaN</td>\n",
       "      <td>0</td>\n",
       "      <td>2004.0</td>\n",
       "      <td>2020.0</td>\n",
       "    </tr>\n",
       "    <tr>\n",
       "      <th>...</th>\n",
       "      <td>...</td>\n",
       "      <td>...</td>\n",
       "      <td>...</td>\n",
       "      <td>...</td>\n",
       "      <td>...</td>\n",
       "      <td>...</td>\n",
       "      <td>...</td>\n",
       "      <td>...</td>\n",
       "      <td>...</td>\n",
       "      <td>...</td>\n",
       "    </tr>\n",
       "    <tr>\n",
       "      <th>594476</th>\n",
       "      <td>57219369439</td>\n",
       "      <td>_3104</td>\n",
       "      <td>_31</td>\n",
       "      <td>2011.0</td>\n",
       "      <td>0.0</td>\n",
       "      <td>3.0</td>\n",
       "      <td>1.0</td>\n",
       "      <td>0</td>\n",
       "      <td>1993.0</td>\n",
       "      <td>2020.0</td>\n",
       "    </tr>\n",
       "    <tr>\n",
       "      <th>594477</th>\n",
       "      <td>57219373749</td>\n",
       "      <td>_2705</td>\n",
       "      <td>_27</td>\n",
       "      <td>2013.0</td>\n",
       "      <td>0.0</td>\n",
       "      <td>1.0</td>\n",
       "      <td>NaN</td>\n",
       "      <td>0</td>\n",
       "      <td>1996.0</td>\n",
       "      <td>2020.0</td>\n",
       "    </tr>\n",
       "    <tr>\n",
       "      <th>594478</th>\n",
       "      <td>57219373848</td>\n",
       "      <td>_2208</td>\n",
       "      <td>_22</td>\n",
       "      <td>NaN</td>\n",
       "      <td>NaN</td>\n",
       "      <td>NaN</td>\n",
       "      <td>NaN</td>\n",
       "      <td>0</td>\n",
       "      <td>1992.0</td>\n",
       "      <td>2020.0</td>\n",
       "    </tr>\n",
       "    <tr>\n",
       "      <th>594479</th>\n",
       "      <td>57219397075</td>\n",
       "      <td>_2504</td>\n",
       "      <td>_25</td>\n",
       "      <td>2011.0</td>\n",
       "      <td>0.0</td>\n",
       "      <td>1.0</td>\n",
       "      <td>NaN</td>\n",
       "      <td>0</td>\n",
       "      <td>1997.0</td>\n",
       "      <td>2020.0</td>\n",
       "    </tr>\n",
       "    <tr>\n",
       "      <th>594480</th>\n",
       "      <td>57219397108</td>\n",
       "      <td>_3107</td>\n",
       "      <td>_31</td>\n",
       "      <td>2011.0</td>\n",
       "      <td>0.0</td>\n",
       "      <td>1.0</td>\n",
       "      <td>1.0</td>\n",
       "      <td>0</td>\n",
       "      <td>1996.0</td>\n",
       "      <td>2020.0</td>\n",
       "    </tr>\n",
       "  </tbody>\n",
       "</table>\n",
       "<p>594481 rows × 10 columns</p>\n",
       "</div>"
      ],
      "text/plain": [
       "             authid subfield_most_frequent subfield_most_frequent_two_digit  \\\n",
       "0        6503846240                  _2210                              _22   \n",
       "1        6503847505                  _2506                              _25   \n",
       "2        6503862195                  _2406                              _24   \n",
       "3        6503867928                  _1303                              _13   \n",
       "4        6503871635                  _2208                              _22   \n",
       "...             ...                    ...                              ...   \n",
       "594476  57219369439                  _3104                              _31   \n",
       "594477  57219373749                  _2705                              _27   \n",
       "594478  57219373848                  _2208                              _22   \n",
       "594479  57219397075                  _2504                              _25   \n",
       "594480  57219397108                  _3107                              _31   \n",
       "\n",
       "        treat_year  reneger_treatment_2digit  jttp_count  four_digit_match  \\\n",
       "0              NaN                       NaN         NaN               NaN   \n",
       "1           2013.0                       0.0         1.0               NaN   \n",
       "2              NaN                       NaN         NaN               NaN   \n",
       "3           2011.0                       0.0         1.0               NaN   \n",
       "4           2011.0                       0.0         1.0               NaN   \n",
       "...            ...                       ...         ...               ...   \n",
       "594476      2011.0                       0.0         3.0               1.0   \n",
       "594477      2013.0                       0.0         1.0               NaN   \n",
       "594478         NaN                       NaN         NaN               NaN   \n",
       "594479      2011.0                       0.0         1.0               NaN   \n",
       "594480      2011.0                       0.0         1.0               1.0   \n",
       "\n",
       "        only_joiner  spell_min_year  spell_max_year  \n",
       "0                 1          2008.0          2016.0  \n",
       "1                 0          2003.0          2020.0  \n",
       "2                 0          2016.0          2017.0  \n",
       "3                 0          1997.0          2016.0  \n",
       "4                 0          2004.0          2020.0  \n",
       "...             ...             ...             ...  \n",
       "594476            0          1993.0          2020.0  \n",
       "594477            0          1996.0          2020.0  \n",
       "594478            0          1992.0          2020.0  \n",
       "594479            0          1997.0          2020.0  \n",
       "594480            0          1996.0          2020.0  \n",
       "\n",
       "[594481 rows x 10 columns]"
      ]
     },
     "execution_count": 24,
     "metadata": {},
     "output_type": "execute_result"
    }
   ],
   "source": [
    "authid_level_dataset"
   ]
  },
  {
   "cell_type": "code",
   "execution_count": 25,
   "metadata": {},
   "outputs": [
    {
     "name": "stdout",
     "output_type": "stream",
     "text": [
      "2011\n",
      "(594481, 10)\n",
      "treatment_status\n",
      "2    131815\n",
      "3     97418\n",
      "1     56100\n",
      "Name: count, dtype: int64\n",
      "(285333, 12)\n",
      "2012\n",
      "(594481, 10)\n",
      "treatment_status\n",
      "2    144263\n",
      "3    116438\n",
      "1     62835\n",
      "Name: count, dtype: int64\n",
      "(323536, 12)\n",
      "2013\n",
      "(594481, 10)\n",
      "treatment_status\n",
      "2    181335\n",
      "3    145014\n",
      "1     35165\n",
      "Name: count, dtype: int64\n",
      "(361514, 12)\n",
      "2015\n",
      "(594481, 10)\n",
      "treatment_status\n",
      "3    207652\n",
      "2    184281\n",
      "1     44093\n",
      "Name: count, dtype: int64\n",
      "(436026, 12)\n",
      "2016\n",
      "(594481, 10)\n",
      "treatment_status\n",
      "3    234346\n",
      "2    210136\n",
      "1     16537\n",
      "Name: count, dtype: int64\n",
      "(461019, 12)\n",
      "2017\n",
      "(594481, 10)\n",
      "treatment_status\n",
      "3    256186\n",
      "2    183365\n",
      "1     39094\n",
      "Name: count, dtype: int64\n",
      "(478645, 12)\n"
     ]
    }
   ],
   "source": [
    "df_by_cohort_list = []\n",
    "for c in [2011,2012,2013,2015,2016,2017]:\n",
    "    print(c)\n",
    "    print(authid_level_dataset.shape)\n",
    "    cohort_c = authid_level_dataset[(authid_level_dataset.spell_min_year+1 <= c)&\n",
    "                                    (authid_level_dataset.spell_max_year > c)].copy()\n",
    "    #within cohort identify\n",
    "    cohort_c['treatment_status'] = 0\n",
    "    #treated in this cohort\n",
    "    cohort_c.loc[cohort_c.treat_year==c,'treatment_status'] = 1\n",
    "    #already treated or not yet treated\n",
    "    cohort_c.loc[(cohort_c.treat_year<c)|(cohort_c.treat_year>c),'treatment_status'] = 2\n",
    "    #never treated\n",
    "    cohort_c.loc[pd.isna(cohort_c.treat_year),'treatment_status'] = 3\n",
    "    print(cohort_c.treatment_status.value_counts())\n",
    "    cohort_c['cohort'] = c\n",
    "    print(cohort_c.shape)\n",
    "    df_by_cohort_list.append(cohort_c)"
   ]
  },
  {
   "cell_type": "code",
   "execution_count": 26,
   "metadata": {},
   "outputs": [],
   "source": [
    "df_by_cohort = pd.concat(df_by_cohort_list)"
   ]
  },
  {
   "cell_type": "markdown",
   "metadata": {},
   "source": [
    "# drop jttp themselves"
   ]
  },
  {
   "cell_type": "code",
   "execution_count": 29,
   "metadata": {},
   "outputs": [
    {
     "name": "stdout",
     "output_type": "stream",
     "text": [
      "Skipping non-string value: nan\n",
      "Skipping non-string value: nan\n",
      "Skipping non-string value: nan\n",
      "Skipping non-string value: nan\n",
      "Skipping non-string value: nan\n",
      "Skipping non-string value: nan\n",
      "Skipping non-string value: nan\n",
      "Skipping non-string value: nan\n",
      "Skipping non-string value: nan\n",
      "Skipping non-string value: nan\n",
      "Skipping non-string value: nan\n",
      "Skipping non-string value: nan\n",
      "Skipping non-string value: nan\n",
      "Skipping non-string value: nan\n",
      "Skipping non-string value: nan\n",
      "Skipping non-string value: nan\n",
      "Skipping non-string value: nan\n",
      "Skipping non-string value: nan\n",
      "Skipping non-string value: nan\n",
      "Skipping non-string value: nan\n",
      "Skipping non-string value: nan\n",
      "Skipping non-string value: nan\n",
      "Skipping non-string value: nan\n",
      "Skipping non-string value: nan\n",
      "Skipping non-string value: nan\n"
     ]
    }
   ],
   "source": [
    "import ast\n",
    "\n",
    "jttp_authid_list = []\n",
    "for l in jttp_df.author_id.values:\n",
    "    try:\n",
    "        # Ensure that l is a string before attempting to eval\n",
    "        if isinstance(l, str):\n",
    "            jttp_authid_list.extend(ast.literal_eval(l))\n",
    "        else:\n",
    "            print(f\"Skipping non-string value: {l}\")\n",
    "    except (ValueError, SyntaxError) as e:\n",
    "        print(f\"Error evaluating: {l}. Error: {e}\")\n",
    "\n",
    "jttp_authid_set = set(jttp_authid_list)\n",
    "df_by_cohort['is_jttp'] = df_by_cohort.authid.apply(lambda x: 1 * (x in jttp_authid_set))\n"
   ]
  },
  {
   "cell_type": "code",
   "execution_count": 30,
   "metadata": {},
   "outputs": [],
   "source": [
    "df_by_cohort = df_by_cohort[df_by_cohort.is_jttp!=1]"
   ]
  },
  {
   "cell_type": "code",
   "execution_count": 31,
   "metadata": {},
   "outputs": [],
   "source": [
    "df_by_cohort.to_csv(os.path.join(dataprocDirectory, 'author_treatment_assignment_stacked.csv'),index=False)"
   ]
  },
  {
   "cell_type": "code",
   "execution_count": null,
   "metadata": {},
   "outputs": [],
   "source": []
  }
 ],
 "metadata": {
  "kernelspec": {
   "display_name": "Python 3",
   "language": "python",
   "name": "python3"
  },
  "language_info": {
   "codemirror_mode": {
    "name": "ipython",
    "version": 3
   },
   "file_extension": ".py",
   "mimetype": "text/x-python",
   "name": "python",
   "nbconvert_exporter": "python",
   "pygments_lexer": "ipython3",
   "version": "3.12.5"
  }
 },
 "nbformat": 4,
 "nbformat_minor": 2
}
