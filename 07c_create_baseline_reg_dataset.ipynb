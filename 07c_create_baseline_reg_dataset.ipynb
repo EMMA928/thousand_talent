{
 "cells": [
  {
   "cell_type": "code",
   "execution_count": 1,
   "metadata": {},
   "outputs": [],
   "source": [
    "import pandas as pd\n",
    "import os\n",
    "absolutepath = os.path.abspath(os.getcwd())\n",
    "fileDirectory = os.path.dirname(absolutepath)\n",
    "parentDirectory = os.path.dirname(fileDirectory)\n",
    "dataprocDirectory = os.path.join(fileDirectory, 'data/proc')\n",
    "datarawDirectory = os.path.join(fileDirectory, 'data/raw')"
   ]
  },
  {
   "cell_type": "code",
   "execution_count": 2,
   "metadata": {},
   "outputs": [],
   "source": [
    "balanced_dataset = pd.read_csv(os.path.join(dataprocDirectory,\n",
    "                                                   'balanced_panel_wo_affiliation_never_treated_control_group.csv'))"
   ]
  },
  {
   "cell_type": "code",
   "execution_count": 3,
   "metadata": {},
   "outputs": [],
   "source": [
    "balanced_dataset['relative_period'] = balanced_dataset['year'] - balanced_dataset['cohort']\n",
    "\n",
    "balanced_dataset = balanced_dataset[balanced_dataset.relative_period>-7]"
   ]
  },
  {
   "cell_type": "code",
   "execution_count": 4,
   "metadata": {},
   "outputs": [],
   "source": [
    "import numpy as np\n",
    "main_outcomes = ['num_docs','frac_count_docs','if_top10','if_top50','if_lower50',\n",
    "                 'sum_citescore','funded']\n",
    "for o in main_outcomes:\n",
    "    balanced_dataset[f\"ihs_{o}\"] = np.arcsinh(balanced_dataset[o])*100"
   ]
  },
  {
   "cell_type": "code",
   "execution_count": 5,
   "metadata": {},
   "outputs": [],
   "source": [
    "balanced_dataset['ever_treated'] = 0\n",
    "balanced_dataset.loc[(balanced_dataset.treatment_status==1),'ever_treated'] = 1\n",
    "relative_periods = balanced_dataset.relative_period.unique()\n",
    "# create time period X treatment vars\n",
    "# all periods\n",
    "for rp in relative_periods:\n",
    "    balanced_dataset[f\"relative_period{rp}Xtreated\"] = balanced_dataset.ever_treated*\\\n",
    "    (balanced_dataset.relative_period==rp)\n",
    "\n",
    "balanced_dataset[\"postXtreated\"] = balanced_dataset.ever_treated*\\\n",
    "                                          (balanced_dataset.relative_period>=0)\n",
    "\n",
    "balanced_dataset[\"post0to3Xtreated\"] = balanced_dataset.ever_treated*\\\n",
    "                                            ((balanced_dataset.relative_period>=0)&\\\n",
    "                                             (balanced_dataset.relative_period<4))\n",
    "balanced_dataset[\"post4to8Xtreated\"] = balanced_dataset.ever_treated*\\\n",
    "                                             (balanced_dataset.relative_period>=4)"
   ]
  },
  {
   "cell_type": "code",
   "execution_count": 6,
   "metadata": {},
   "outputs": [],
   "source": [
    "cohort_af = pd.read_csv((os.path.join(dataprocDirectory,\n",
    "                    'author_cohort_jttp_af.csv')))"
   ]
  },
  {
   "cell_type": "code",
   "execution_count": 7,
   "metadata": {},
   "outputs": [],
   "source": [
    "balanced_dataset = balanced_dataset.merge(cohort_af, how = 'left', on =['authid','cohort'])"
   ]
  },
  {
   "cell_type": "code",
   "execution_count": 8,
   "metadata": {},
   "outputs": [
    {
     "data": {
      "text/plain": [
       "authid                              12251921\n",
       "cohort                              12251921\n",
       "year                                12251921\n",
       "subfield_most_frequent              12251921\n",
       "subfield_most_frequent_two_digit    12251921\n",
       "                                      ...   \n",
       "postXtreated                        12251921\n",
       "post0to3Xtreated                    12251921\n",
       "post4to8Xtreated                    12251921\n",
       "afid_masked_unique_filtered         11246003\n",
       "afid_masked_nunique_filtered        11246003\n",
       "Length: 78, dtype: int64"
      ]
     },
     "execution_count": 8,
     "metadata": {},
     "output_type": "execute_result"
    }
   ],
   "source": [
    "balanced_dataset.count()"
   ]
  },
  {
   "cell_type": "markdown",
   "metadata": {},
   "source": [
    "# drop only joiners"
   ]
  },
  {
   "cell_type": "code",
   "execution_count": 9,
   "metadata": {},
   "outputs": [],
   "source": [
    "balanced_dataset = balanced_dataset[balanced_dataset.only_joiner!=1]"
   ]
  },
  {
   "cell_type": "code",
   "execution_count": 10,
   "metadata": {},
   "outputs": [
    {
     "data": {
      "text/plain": [
       "(9117833, 78)"
      ]
     },
     "execution_count": 10,
     "metadata": {},
     "output_type": "execute_result"
    }
   ],
   "source": [
    "balanced_dataset.shape"
   ]
  },
  {
   "cell_type": "code",
   "execution_count": 11,
   "metadata": {},
   "outputs": [],
   "source": [
    "balanced_dataset.to_csv(os.path.join(dataprocDirectory,'balanced_panel_never_treated_control_group.csv'),index=False)"
   ]
  },
  {
   "cell_type": "code",
   "execution_count": null,
   "metadata": {},
   "outputs": [],
   "source": []
  }
 ],
 "metadata": {
  "kernelspec": {
   "display_name": "Python 3",
   "language": "python",
   "name": "python3"
  },
  "language_info": {
   "codemirror_mode": {
    "name": "ipython",
    "version": 3
   },
   "file_extension": ".py",
   "mimetype": "text/x-python",
   "name": "python",
   "nbconvert_exporter": "python",
   "pygments_lexer": "ipython3",
   "version": "3.12.5"
  }
 },
 "nbformat": 4,
 "nbformat_minor": 2
}
